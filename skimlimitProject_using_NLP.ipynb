{
  "nbformat": 4,
  "nbformat_minor": 0,
  "metadata": {
    "colab": {
      "provenance": [],
      "gpuType": "T4"
    },
    "kernelspec": {
      "name": "python3",
      "display_name": "Python 3"
    },
    "language_info": {
      "name": "python"
    },
    "accelerator": "GPU"
  },
  "cells": [
    {
      "cell_type": "code",
      "execution_count": null,
      "metadata": {
        "colab": {
          "base_uri": "https://localhost:8080/"
        },
        "id": "Q9l18SD8dWPm",
        "outputId": "4492a20d-75d3-4b8e-b4b5-b9d1157a885e"
      },
      "outputs": [
        {
          "output_type": "stream",
          "name": "stdout",
          "text": [
            "Sun Jul 23 05:29:44 2023       \n",
            "+-----------------------------------------------------------------------------+\n",
            "| NVIDIA-SMI 525.105.17   Driver Version: 525.105.17   CUDA Version: 12.0     |\n",
            "|-------------------------------+----------------------+----------------------+\n",
            "| GPU  Name        Persistence-M| Bus-Id        Disp.A | Volatile Uncorr. ECC |\n",
            "| Fan  Temp  Perf  Pwr:Usage/Cap|         Memory-Usage | GPU-Util  Compute M. |\n",
            "|                               |                      |               MIG M. |\n",
            "|===============================+======================+======================|\n",
            "|   0  Tesla T4            Off  | 00000000:00:04.0 Off |                    0 |\n",
            "| N/A   55C    P8    10W /  70W |      0MiB / 15360MiB |      0%      Default |\n",
            "|                               |                      |                  N/A |\n",
            "+-------------------------------+----------------------+----------------------+\n",
            "                                                                               \n",
            "+-----------------------------------------------------------------------------+\n",
            "| Processes:                                                                  |\n",
            "|  GPU   GI   CI        PID   Type   Process name                  GPU Memory |\n",
            "|        ID   ID                                                   Usage      |\n",
            "|=============================================================================|\n",
            "|  No running processes found                                                 |\n",
            "+-----------------------------------------------------------------------------+\n"
          ]
        }
      ],
      "source": [
        "!nvidia-smi"
      ]
    },
    {
      "cell_type": "code",
      "source": [
        "!git clone https://github.com/Franck-Dernoncourt/pubmed-rct.git\n",
        "!ls pubmed-rct"
      ],
      "metadata": {
        "colab": {
          "base_uri": "https://localhost:8080/"
        },
        "id": "pB-_umA4hfCq",
        "outputId": "af3cb23d-c050-4c79-c10d-c80c97a1fd91"
      },
      "execution_count": null,
      "outputs": [
        {
          "output_type": "stream",
          "name": "stdout",
          "text": [
            "Cloning into 'pubmed-rct'...\n",
            "remote: Enumerating objects: 33, done.\u001b[K\n",
            "remote: Counting objects: 100% (8/8), done.\u001b[K\n",
            "remote: Compressing objects: 100% (3/3), done.\u001b[K\n",
            "remote: Total 33 (delta 5), reused 5 (delta 5), pack-reused 25\u001b[K\n",
            "Receiving objects: 100% (33/33), 177.08 MiB | 17.19 MiB/s, done.\n",
            "Resolving deltas: 100% (12/12), done.\n",
            "Updating files: 100% (13/13), done.\n",
            "PubMed_200k_RCT\n",
            "PubMed_200k_RCT_numbers_replaced_with_at_sign\n",
            "PubMed_20k_RCT\n",
            "PubMed_20k_RCT_numbers_replaced_with_at_sign\n",
            "README.md\n"
          ]
        }
      ]
    },
    {
      "cell_type": "code",
      "source": [
        "!ls  pubmed-rct/PubMed_200k_RCT_numbers_replaced_with_at_sign/"
      ],
      "metadata": {
        "colab": {
          "base_uri": "https://localhost:8080/"
        },
        "id": "Bi_Pstbmjl3q",
        "outputId": "54e7ef69-367c-4fbb-a42e-9275ed4ebc31"
      },
      "execution_count": null,
      "outputs": [
        {
          "output_type": "stream",
          "name": "stdout",
          "text": [
            "dev.txt  test.txt  train.zip\n"
          ]
        }
      ]
    },
    {
      "cell_type": "code",
      "source": [
        "!ls  pubmed-rct/PubMed_200k_RCT_numbers_replaced_with_at_sign/test.txt"
      ],
      "metadata": {
        "colab": {
          "base_uri": "https://localhost:8080/"
        },
        "id": "gqjHVp97k8el",
        "outputId": "5c04964a-78fb-4f50-c3fb-f701338d4ca8"
      },
      "execution_count": null,
      "outputs": [
        {
          "output_type": "stream",
          "name": "stdout",
          "text": [
            "pubmed-rct/PubMed_200k_RCT_numbers_replaced_with_at_sign/test.txt\n"
          ]
        }
      ]
    },
    {
      "cell_type": "code",
      "source": [
        "data_dir = \"/content/pubmed-rct/PubMed_20k_RCT_numbers_replaced_with_at_sign/\""
      ],
      "metadata": {
        "id": "7dtwvoOKlCIn"
      },
      "execution_count": null,
      "outputs": []
    },
    {
      "cell_type": "code",
      "source": [
        "import os\n",
        "\n",
        "os.listdir(data_dir)"
      ],
      "metadata": {
        "colab": {
          "base_uri": "https://localhost:8080/"
        },
        "id": "uy1JvIfUlj42",
        "outputId": "568824e2-3c59-4e1c-e0b8-bfa22dd83211"
      },
      "execution_count": null,
      "outputs": [
        {
          "output_type": "execute_result",
          "data": {
            "text/plain": [
              "['train.txt', 'test.txt', 'dev.txt']"
            ]
          },
          "metadata": {},
          "execution_count": 6
        }
      ]
    },
    {
      "cell_type": "code",
      "source": [
        "filenames = [data_dir+filenames for filenames in os.listdir(data_dir)]\n",
        "filenames"
      ],
      "metadata": {
        "colab": {
          "base_uri": "https://localhost:8080/"
        },
        "id": "75gygxXmnTlf",
        "outputId": "fa56f6bd-9ad9-4fbc-d6a6-616e6d9cba5f"
      },
      "execution_count": null,
      "outputs": [
        {
          "output_type": "execute_result",
          "data": {
            "text/plain": [
              "['/content/pubmed-rct/PubMed_20k_RCT_numbers_replaced_with_at_sign/train.txt',\n",
              " '/content/pubmed-rct/PubMed_20k_RCT_numbers_replaced_with_at_sign/test.txt',\n",
              " '/content/pubmed-rct/PubMed_20k_RCT_numbers_replaced_with_at_sign/dev.txt']"
            ]
          },
          "metadata": {},
          "execution_count": 7
        }
      ]
    },
    {
      "cell_type": "code",
      "source": [
        "# creating a function to read filenames\n",
        "\n",
        "def read_lines(filenames):\n",
        "  with open(filenames,'r') as f:\n",
        "    return f.readlines()"
      ],
      "metadata": {
        "id": "_9d0jJrEmC4_"
      },
      "execution_count": null,
      "outputs": []
    },
    {
      "cell_type": "code",
      "source": [
        "train_lines = read_lines(filenames=data_dir+\"train.txt\")\n",
        "train_lines[:10]"
      ],
      "metadata": {
        "colab": {
          "base_uri": "https://localhost:8080/"
        },
        "id": "qBzrEXL_oSDs",
        "outputId": "f24ea82f-8fea-45b8-9e20-539ebd6a0aa0"
      },
      "execution_count": null,
      "outputs": [
        {
          "output_type": "execute_result",
          "data": {
            "text/plain": [
              "['###24293578\\n',\n",
              " 'OBJECTIVE\\tTo investigate the efficacy of @ weeks of daily low-dose oral prednisolone in improving pain , mobility , and systemic low-grade inflammation in the short term and whether the effect would be sustained at @ weeks in older adults with moderate to severe knee osteoarthritis ( OA ) .\\n',\n",
              " 'METHODS\\tA total of @ patients with primary knee OA were randomized @:@ ; @ received @ mg/day of prednisolone and @ received placebo for @ weeks .\\n',\n",
              " 'METHODS\\tOutcome measures included pain reduction and improvement in function scores and systemic inflammation markers .\\n',\n",
              " 'METHODS\\tPain was assessed using the visual analog pain scale ( @-@ mm ) .\\n',\n",
              " 'METHODS\\tSecondary outcome measures included the Western Ontario and McMaster Universities Osteoarthritis Index scores , patient global assessment ( PGA ) of the severity of knee OA , and @-min walk distance ( @MWD ) .\\n',\n",
              " 'METHODS\\tSerum levels of interleukin @ ( IL-@ ) , IL-@ , tumor necrosis factor ( TNF ) - , and high-sensitivity C-reactive protein ( hsCRP ) were measured .\\n',\n",
              " 'RESULTS\\tThere was a clinically relevant reduction in the intervention group compared to the placebo group for knee pain , physical function , PGA , and @MWD at @ weeks .\\n',\n",
              " 'RESULTS\\tThe mean difference between treatment arms ( @ % CI ) was @ ( @-@ @ ) , p < @ ; @ ( @-@ @ ) , p < @ ; @ ( @-@ @ ) , p < @ ; and @ ( @-@ @ ) , p < @ , respectively .\\n',\n",
              " 'RESULTS\\tFurther , there was a clinically relevant reduction in the serum levels of IL-@ , IL-@ , TNF - , and hsCRP at @ weeks in the intervention group when compared to the placebo group .\\n']"
            ]
          },
          "metadata": {},
          "execution_count": 9
        }
      ]
    },
    {
      "cell_type": "code",
      "source": [
        "def preprocess_lines(filenames):\n",
        "  lines = read_lines(filenames)\n",
        "\n",
        "  abstract_lines = \"\"\n",
        "  abstract_samples = []\n",
        "\n",
        "  for each_line in lines:\n",
        "    if each_line.startswith(\"###\"):\n",
        "      abstract_id = each_line\n",
        "      abstract_lines = \"\"\n",
        "    elif each_line.isspace():\n",
        "      line_space_split = abstract_lines.splitlines()\n",
        "\n",
        "      for line_number , line in enumerate(line_space_split):\n",
        "        line_data = {}\n",
        "        line_T_split = line.split(\"\\t\")\n",
        "\n",
        "        line_data[\"target\"] = line_T_split[0]\n",
        "        line_data[\"text\"] = line_T_split[1].lower()\n",
        "        line_data[\"number\"] = line_number\n",
        "        line_data[\"total_num_lines\"] = len(line_space_split)\n",
        "        abstract_samples.append(line_data)\n",
        "    else:\n",
        "      abstract_lines = abstract_lines + each_line\n",
        "  return abstract_samples\n"
      ],
      "metadata": {
        "id": "BN1cTqn0pXsI"
      },
      "execution_count": null,
      "outputs": []
    },
    {
      "cell_type": "code",
      "source": [
        "%%time\n",
        "\n",
        "train_data = preprocess_lines(data_dir+\"train.txt\")\n",
        "val_data = preprocess_lines(data_dir+\"dev.txt\")\n",
        "test_data = preprocess_lines(data_dir+\"test.txt\")"
      ],
      "metadata": {
        "colab": {
          "base_uri": "https://localhost:8080/"
        },
        "id": "MfRJ-ITOHFZK",
        "outputId": "b29b735f-5177-4fc3-918a-f960b5c0e047"
      },
      "execution_count": null,
      "outputs": [
        {
          "output_type": "stream",
          "name": "stdout",
          "text": [
            "CPU times: user 418 ms, sys: 80.7 ms, total: 498 ms\n",
            "Wall time: 501 ms\n"
          ]
        }
      ]
    },
    {
      "cell_type": "code",
      "source": [
        "train_data[:2]"
      ],
      "metadata": {
        "colab": {
          "base_uri": "https://localhost:8080/"
        },
        "id": "ILL2dafBGBfO",
        "outputId": "285dbecd-6b04-43d0-dfef-4f0ee5f0627e"
      },
      "execution_count": null,
      "outputs": [
        {
          "output_type": "execute_result",
          "data": {
            "text/plain": [
              "[{'target': 'OBJECTIVE',\n",
              "  'text': 'to investigate the efficacy of @ weeks of daily low-dose oral prednisolone in improving pain , mobility , and systemic low-grade inflammation in the short term and whether the effect would be sustained at @ weeks in older adults with moderate to severe knee osteoarthritis ( oa ) .',\n",
              "  'number': 0,\n",
              "  'total_num_lines': 12},\n",
              " {'target': 'METHODS',\n",
              "  'text': 'a total of @ patients with primary knee oa were randomized @:@ ; @ received @ mg/day of prednisolone and @ received placebo for @ weeks .',\n",
              "  'number': 1,\n",
              "  'total_num_lines': 12}]"
            ]
          },
          "metadata": {},
          "execution_count": 12
        }
      ]
    },
    {
      "cell_type": "code",
      "source": [
        "import pandas as pd\n",
        "train_df = pd.DataFrame(train_data)\n",
        "val_df = pd.DataFrame(val_data)\n",
        "test_df = pd.DataFrame(test_data)"
      ],
      "metadata": {
        "id": "LwvNoO4eOhxq"
      },
      "execution_count": null,
      "outputs": []
    },
    {
      "cell_type": "code",
      "source": [
        "train_df.head(5)"
      ],
      "metadata": {
        "colab": {
          "base_uri": "https://localhost:8080/",
          "height": 206
        },
        "id": "mtMtdiFnPLeL",
        "outputId": "f6bfe47c-ec41-46d0-fda5-dc2c8070f230"
      },
      "execution_count": null,
      "outputs": [
        {
          "output_type": "execute_result",
          "data": {
            "text/plain": [
              "      target                                               text  number  \\\n",
              "0  OBJECTIVE  to investigate the efficacy of @ weeks of dail...       0   \n",
              "1    METHODS  a total of @ patients with primary knee oa wer...       1   \n",
              "2    METHODS  outcome measures included pain reduction and i...       2   \n",
              "3    METHODS  pain was assessed using the visual analog pain...       3   \n",
              "4    METHODS  secondary outcome measures included the wester...       4   \n",
              "\n",
              "   total_num_lines  \n",
              "0               12  \n",
              "1               12  \n",
              "2               12  \n",
              "3               12  \n",
              "4               12  "
            ],
            "text/html": [
              "\n",
              "\n",
              "  <div id=\"df-b6a87c3b-1c7d-4ad2-98cf-65d8678cb1c2\">\n",
              "    <div class=\"colab-df-container\">\n",
              "      <div>\n",
              "<style scoped>\n",
              "    .dataframe tbody tr th:only-of-type {\n",
              "        vertical-align: middle;\n",
              "    }\n",
              "\n",
              "    .dataframe tbody tr th {\n",
              "        vertical-align: top;\n",
              "    }\n",
              "\n",
              "    .dataframe thead th {\n",
              "        text-align: right;\n",
              "    }\n",
              "</style>\n",
              "<table border=\"1\" class=\"dataframe\">\n",
              "  <thead>\n",
              "    <tr style=\"text-align: right;\">\n",
              "      <th></th>\n",
              "      <th>target</th>\n",
              "      <th>text</th>\n",
              "      <th>number</th>\n",
              "      <th>total_num_lines</th>\n",
              "    </tr>\n",
              "  </thead>\n",
              "  <tbody>\n",
              "    <tr>\n",
              "      <th>0</th>\n",
              "      <td>OBJECTIVE</td>\n",
              "      <td>to investigate the efficacy of @ weeks of dail...</td>\n",
              "      <td>0</td>\n",
              "      <td>12</td>\n",
              "    </tr>\n",
              "    <tr>\n",
              "      <th>1</th>\n",
              "      <td>METHODS</td>\n",
              "      <td>a total of @ patients with primary knee oa wer...</td>\n",
              "      <td>1</td>\n",
              "      <td>12</td>\n",
              "    </tr>\n",
              "    <tr>\n",
              "      <th>2</th>\n",
              "      <td>METHODS</td>\n",
              "      <td>outcome measures included pain reduction and i...</td>\n",
              "      <td>2</td>\n",
              "      <td>12</td>\n",
              "    </tr>\n",
              "    <tr>\n",
              "      <th>3</th>\n",
              "      <td>METHODS</td>\n",
              "      <td>pain was assessed using the visual analog pain...</td>\n",
              "      <td>3</td>\n",
              "      <td>12</td>\n",
              "    </tr>\n",
              "    <tr>\n",
              "      <th>4</th>\n",
              "      <td>METHODS</td>\n",
              "      <td>secondary outcome measures included the wester...</td>\n",
              "      <td>4</td>\n",
              "      <td>12</td>\n",
              "    </tr>\n",
              "  </tbody>\n",
              "</table>\n",
              "</div>\n",
              "      <button class=\"colab-df-convert\" onclick=\"convertToInteractive('df-b6a87c3b-1c7d-4ad2-98cf-65d8678cb1c2')\"\n",
              "              title=\"Convert this dataframe to an interactive table.\"\n",
              "              style=\"display:none;\">\n",
              "\n",
              "  <svg xmlns=\"http://www.w3.org/2000/svg\" height=\"24px\"viewBox=\"0 0 24 24\"\n",
              "       width=\"24px\">\n",
              "    <path d=\"M0 0h24v24H0V0z\" fill=\"none\"/>\n",
              "    <path d=\"M18.56 5.44l.94 2.06.94-2.06 2.06-.94-2.06-.94-.94-2.06-.94 2.06-2.06.94zm-11 1L8.5 8.5l.94-2.06 2.06-.94-2.06-.94L8.5 2.5l-.94 2.06-2.06.94zm10 10l.94 2.06.94-2.06 2.06-.94-2.06-.94-.94-2.06-.94 2.06-2.06.94z\"/><path d=\"M17.41 7.96l-1.37-1.37c-.4-.4-.92-.59-1.43-.59-.52 0-1.04.2-1.43.59L10.3 9.45l-7.72 7.72c-.78.78-.78 2.05 0 2.83L4 21.41c.39.39.9.59 1.41.59.51 0 1.02-.2 1.41-.59l7.78-7.78 2.81-2.81c.8-.78.8-2.07 0-2.86zM5.41 20L4 18.59l7.72-7.72 1.47 1.35L5.41 20z\"/>\n",
              "  </svg>\n",
              "      </button>\n",
              "\n",
              "\n",
              "\n",
              "    <div id=\"df-411fb459-b918-4305-96ec-f18c60401bb0\">\n",
              "      <button class=\"colab-df-quickchart\" onclick=\"quickchart('df-411fb459-b918-4305-96ec-f18c60401bb0')\"\n",
              "              title=\"Suggest charts.\"\n",
              "              style=\"display:none;\">\n",
              "\n",
              "<svg xmlns=\"http://www.w3.org/2000/svg\" height=\"24px\"viewBox=\"0 0 24 24\"\n",
              "     width=\"24px\">\n",
              "    <g>\n",
              "        <path d=\"M19 3H5c-1.1 0-2 .9-2 2v14c0 1.1.9 2 2 2h14c1.1 0 2-.9 2-2V5c0-1.1-.9-2-2-2zM9 17H7v-7h2v7zm4 0h-2V7h2v10zm4 0h-2v-4h2v4z\"/>\n",
              "    </g>\n",
              "</svg>\n",
              "      </button>\n",
              "    </div>\n",
              "\n",
              "<style>\n",
              "  .colab-df-quickchart {\n",
              "    background-color: #E8F0FE;\n",
              "    border: none;\n",
              "    border-radius: 50%;\n",
              "    cursor: pointer;\n",
              "    display: none;\n",
              "    fill: #1967D2;\n",
              "    height: 32px;\n",
              "    padding: 0 0 0 0;\n",
              "    width: 32px;\n",
              "  }\n",
              "\n",
              "  .colab-df-quickchart:hover {\n",
              "    background-color: #E2EBFA;\n",
              "    box-shadow: 0px 1px 2px rgba(60, 64, 67, 0.3), 0px 1px 3px 1px rgba(60, 64, 67, 0.15);\n",
              "    fill: #174EA6;\n",
              "  }\n",
              "\n",
              "  [theme=dark] .colab-df-quickchart {\n",
              "    background-color: #3B4455;\n",
              "    fill: #D2E3FC;\n",
              "  }\n",
              "\n",
              "  [theme=dark] .colab-df-quickchart:hover {\n",
              "    background-color: #434B5C;\n",
              "    box-shadow: 0px 1px 3px 1px rgba(0, 0, 0, 0.15);\n",
              "    filter: drop-shadow(0px 1px 2px rgba(0, 0, 0, 0.3));\n",
              "    fill: #FFFFFF;\n",
              "  }\n",
              "</style>\n",
              "\n",
              "    <script>\n",
              "      async function quickchart(key) {\n",
              "        const containerElement = document.querySelector('#' + key);\n",
              "        const charts = await google.colab.kernel.invokeFunction(\n",
              "            'suggestCharts', [key], {});\n",
              "      }\n",
              "    </script>\n",
              "\n",
              "      <script>\n",
              "\n",
              "function displayQuickchartButton(domScope) {\n",
              "  let quickchartButtonEl =\n",
              "    domScope.querySelector('#df-411fb459-b918-4305-96ec-f18c60401bb0 button.colab-df-quickchart');\n",
              "  quickchartButtonEl.style.display =\n",
              "    google.colab.kernel.accessAllowed ? 'block' : 'none';\n",
              "}\n",
              "\n",
              "        displayQuickchartButton(document);\n",
              "      </script>\n",
              "      <style>\n",
              "    .colab-df-container {\n",
              "      display:flex;\n",
              "      flex-wrap:wrap;\n",
              "      gap: 12px;\n",
              "    }\n",
              "\n",
              "    .colab-df-convert {\n",
              "      background-color: #E8F0FE;\n",
              "      border: none;\n",
              "      border-radius: 50%;\n",
              "      cursor: pointer;\n",
              "      display: none;\n",
              "      fill: #1967D2;\n",
              "      height: 32px;\n",
              "      padding: 0 0 0 0;\n",
              "      width: 32px;\n",
              "    }\n",
              "\n",
              "    .colab-df-convert:hover {\n",
              "      background-color: #E2EBFA;\n",
              "      box-shadow: 0px 1px 2px rgba(60, 64, 67, 0.3), 0px 1px 3px 1px rgba(60, 64, 67, 0.15);\n",
              "      fill: #174EA6;\n",
              "    }\n",
              "\n",
              "    [theme=dark] .colab-df-convert {\n",
              "      background-color: #3B4455;\n",
              "      fill: #D2E3FC;\n",
              "    }\n",
              "\n",
              "    [theme=dark] .colab-df-convert:hover {\n",
              "      background-color: #434B5C;\n",
              "      box-shadow: 0px 1px 3px 1px rgba(0, 0, 0, 0.15);\n",
              "      filter: drop-shadow(0px 1px 2px rgba(0, 0, 0, 0.3));\n",
              "      fill: #FFFFFF;\n",
              "    }\n",
              "  </style>\n",
              "\n",
              "      <script>\n",
              "        const buttonEl =\n",
              "          document.querySelector('#df-b6a87c3b-1c7d-4ad2-98cf-65d8678cb1c2 button.colab-df-convert');\n",
              "        buttonEl.style.display =\n",
              "          google.colab.kernel.accessAllowed ? 'block' : 'none';\n",
              "\n",
              "        async function convertToInteractive(key) {\n",
              "          const element = document.querySelector('#df-b6a87c3b-1c7d-4ad2-98cf-65d8678cb1c2');\n",
              "          const dataTable =\n",
              "            await google.colab.kernel.invokeFunction('convertToInteractive',\n",
              "                                                     [key], {});\n",
              "          if (!dataTable) return;\n",
              "\n",
              "          const docLinkHtml = 'Like what you see? Visit the ' +\n",
              "            '<a target=\"_blank\" href=https://colab.research.google.com/notebooks/data_table.ipynb>data table notebook</a>'\n",
              "            + ' to learn more about interactive tables.';\n",
              "          element.innerHTML = '';\n",
              "          dataTable['output_type'] = 'display_data';\n",
              "          await google.colab.output.renderOutput(dataTable, element);\n",
              "          const docLink = document.createElement('div');\n",
              "          docLink.innerHTML = docLinkHtml;\n",
              "          element.appendChild(docLink);\n",
              "        }\n",
              "      </script>\n",
              "    </div>\n",
              "  </div>\n"
            ]
          },
          "metadata": {},
          "execution_count": 14
        }
      ]
    },
    {
      "cell_type": "code",
      "source": [
        "import matplotlib.pyplot as mpl\n",
        "train_df[\"total_num_lines\"].plot.hist()"
      ],
      "metadata": {
        "colab": {
          "base_uri": "https://localhost:8080/",
          "height": 448
        },
        "id": "Zx6DIoLJPWAm",
        "outputId": "1391efb5-9c35-4736-9da5-67d794688864"
      },
      "execution_count": null,
      "outputs": [
        {
          "output_type": "execute_result",
          "data": {
            "text/plain": [
              "<Axes: ylabel='Frequency'>"
            ]
          },
          "metadata": {},
          "execution_count": 15
        },
        {
          "output_type": "display_data",
          "data": {
            "text/plain": [
              "<Figure size 640x480 with 1 Axes>"
            ],
            "image/png": "[encoded data removed]"
          },
          "metadata": {}
        }
      ]
    },
    {
      "cell_type": "code",
      "source": [
        "train_sentences = train_df['text'].to_list()\n",
        "val_sentences = val_df['text'].to_list()\n",
        "test_sentences = test_df['text'].to_list()\n"
      ],
      "metadata": {
        "id": "Z6WKmoP-PTYa"
      },
      "execution_count": null,
      "outputs": []
    },
    {
      "cell_type": "markdown",
      "source": [
        "**now we try to convert all sentences to numbers using sklearn `oneHot`**"
      ],
      "metadata": {
        "id": "h12a1FZAQ9Bf"
      }
    },
    {
      "cell_type": "code",
      "source": [
        "from sklearn.preprocessing import OneHotEncoder\n",
        "\n",
        "one_hot = OneHotEncoder(sparse=False)\n",
        "\n",
        "train_label_encoded = one_hot.fit_transform(train_df['target'].to_numpy().reshape(-1,1))\n",
        "\n",
        "val_label_encoded = one_hot.transform(val_df['target'].to_numpy().reshape(-1,1))\n",
        "\n",
        "test_label_encoded = one_hot.transform(test_df['target'].to_numpy().reshape(-1,1))\n",
        "\n"
      ],
      "metadata": {
        "colab": {
          "base_uri": "https://localhost:8080/"
        },
        "id": "grPKqbzXSgwC",
        "outputId": "c91d0953-42cd-42f7-ce7a-6286cd256ff0"
      },
      "execution_count": null,
      "outputs": [
        {
          "output_type": "stream",
          "name": "stderr",
          "text": [
            "/usr/local/lib/python3.10/dist-packages/sklearn/preprocessing/_encoders.py:868: FutureWarning: `sparse` was renamed to `sparse_output` in version 1.2 and will be removed in 1.4. `sparse_output` is ignored unless you leave `sparse` to its default value.\n",
            "  warnings.warn(\n"
          ]
        }
      ]
    },
    {
      "cell_type": "markdown",
      "source": [
        "*now we use `LABEL ENCODER`to encode our above label column (target) to integers*"
      ],
      "metadata": {
        "id": "nO5zRwOAS4W3"
      }
    },
    {
      "cell_type": "code",
      "source": [
        "from sklearn.preprocessing import LabelEncoder\n",
        "\n",
        "label_encoder = LabelEncoder()\n",
        "\n",
        "train_label_encoded_int = label_encoder.fit_transform(train_df['target'].to_numpy())\n",
        "\n",
        "val_label_encoded_int = label_encoder.transform(val_df['target'].to_numpy())\n",
        "\n",
        "test_label_encoded_int = label_encoder.transform(test_df['target'].to_numpy())"
      ],
      "metadata": {
        "id": "22FnuqQiUOUF"
      },
      "execution_count": null,
      "outputs": []
    },
    {
      "cell_type": "code",
      "source": [
        "# to see label names and its total number\n",
        "\n",
        "num_of_labels = len(label_encoder.classes_)\n",
        "label_names =  label_encoder.classes_\n",
        "\n",
        "print(num_of_labels,label_names)"
      ],
      "metadata": {
        "colab": {
          "base_uri": "https://localhost:8080/"
        },
        "id": "oIuO1rOyVAck",
        "outputId": "1c0612ac-b574-4db9-bee5-2fd2cbddeb52"
      },
      "execution_count": null,
      "outputs": [
        {
          "output_type": "stream",
          "name": "stdout",
          "text": [
            "5 ['BACKGROUND' 'CONCLUSIONS' 'METHODS' 'OBJECTIVE' 'RESULTS']\n"
          ]
        }
      ]
    },
    {
      "cell_type": "markdown",
      "source": [
        "**MODEL 0 (BASELINE MODEL)**"
      ],
      "metadata": {
        "id": "SS1Dfd5NWRHi"
      }
    },
    {
      "cell_type": "code",
      "source": [
        "from sklearn.feature_extraction.text import TfidfVectorizer\n"
      ],
      "metadata": {
        "id": "ZFnHb5vrfGSE"
      },
      "execution_count": null,
      "outputs": []
    },
    {
      "cell_type": "code",
      "source": [
        "from sklearn.naive_bayes import MultinomialNB\n",
        "from sklearn.pipeline import Pipeline"
      ],
      "metadata": {
        "id": "dVB_xrK6ffg7"
      },
      "execution_count": null,
      "outputs": []
    },
    {
      "cell_type": "code",
      "source": [
        "model_0 = Pipeline([\n",
        "    (\"vector\",TfidfVectorizer()),\n",
        "    (\"model\",MultinomialNB())\n",
        "])\n",
        "\n",
        "model_0.fit(train_sentences,train_label_encoded_int)\n"
      ],
      "metadata": {
        "colab": {
          "base_uri": "https://localhost:8080/",
          "height": 125
        },
        "id": "dpp0GJkTlj0n",
        "outputId": "7307028e-1fb2-4da9-c5f3-8604f92a89d1"
      },
      "execution_count": null,
      "outputs": [
        {
          "output_type": "execute_result",
          "data": {
            "text/plain": [
              "Pipeline(steps=[('vector', TfidfVectorizer()), ('model', MultinomialNB())])"
            ],
            "text/html": [
              "<style>#sk-container-id-1 {color: black;background-color: white;}#sk-container-id-1 pre{padding: 0;}#sk-container-id-1 div.sk-toggleable {background-color: white;}#sk-container-id-1 label.sk-toggleable__label {cursor: pointer;display: block;width: 100%;margin-bottom: 0;padding: 0.3em;box-sizing: border-box;text-align: center;}#sk-container-id-1 label.sk-toggleable__label-arrow:before {content: \"▸\";float: left;margin-right: 0.25em;color: #696969;}#sk-container-id-1 label.sk-toggleable__label-arrow:hover:before {color: black;}#sk-container-id-1 div.sk-estimator:hover label.sk-toggleable__label-arrow:before {color: black;}#sk-container-id-1 div.sk-toggleable__content {max-height: 0;max-width: 0;overflow: hidden;text-align: left;background-color: #f0f8ff;}#sk-container-id-1 div.sk-toggleable__content pre {margin: 0.2em;color: black;border-radius: 0.25em;background-color: #f0f8ff;}#sk-container-id-1 input.sk-toggleable__control:checked~div.sk-toggleable__content {max-height: 200px;max-width: 100%;overflow: auto;}#sk-container-id-1 input.sk-toggleable__control:checked~label.sk-toggleable__label-arrow:before {content: \"▾\";}#sk-container-id-1 div.sk-estimator input.sk-toggleable__control:checked~label.sk-toggleable__label {background-color: #d4ebff;}#sk-container-id-1 div.sk-label input.sk-toggleable__control:checked~label.sk-toggleable__label {background-color: #d4ebff;}#sk-container-id-1 input.sk-hidden--visually {border: 0;clip: rect(1px 1px 1px 1px);clip: rect(1px, 1px, 1px, 1px);height: 1px;margin: -1px;overflow: hidden;padding: 0;position: absolute;width: 1px;}#sk-container-id-1 div.sk-estimator {font-family: monospace;background-color: #f0f8ff;border: 1px dotted black;border-radius: 0.25em;box-sizing: border-box;margin-bottom: 0.5em;}#sk-container-id-1 div.sk-estimator:hover {background-color: #d4ebff;}#sk-container-id-1 div.sk-parallel-item::after {content: \"\";width: 100%;border-bottom: 1px solid gray;flex-grow: 1;}#sk-container-id-1 div.sk-label:hover label.sk-toggleable__label {background-color: #d4ebff;}#sk-container-id-1 div.sk-serial::before {content: \"\";position: absolute;border-left: 1px solid gray;box-sizing: border-box;top: 0;bottom: 0;left: 50%;z-index: 0;}#sk-container-id-1 div.sk-serial {display: flex;flex-direction: column;align-items: center;background-color: white;padding-right: 0.2em;padding-left: 0.2em;position: relative;}#sk-container-id-1 div.sk-item {position: relative;z-index: 1;}#sk-container-id-1 div.sk-parallel {display: flex;align-items: stretch;justify-content: center;background-color: white;position: relative;}#sk-container-id-1 div.sk-item::before, #sk-container-id-1 div.sk-parallel-item::before {content: \"\";position: absolute;border-left: 1px solid gray;box-sizing: border-box;top: 0;bottom: 0;left: 50%;z-index: -1;}#sk-container-id-1 div.sk-parallel-item {display: flex;flex-direction: column;z-index: 1;position: relative;background-color: white;}#sk-container-id-1 div.sk-parallel-item:first-child::after {align-self: flex-end;width: 50%;}#sk-container-id-1 div.sk-parallel-item:last-child::after {align-self: flex-start;width: 50%;}#sk-container-id-1 div.sk-parallel-item:only-child::after {width: 0;}#sk-container-id-1 div.sk-dashed-wrapped {border: 1px dashed gray;margin: 0 0.4em 0.5em 0.4em;box-sizing: border-box;padding-bottom: 0.4em;background-color: white;}#sk-container-id-1 div.sk-label label {font-family: monospace;font-weight: bold;display: inline-block;line-height: 1.2em;}#sk-container-id-1 div.sk-label-container {text-align: center;}#sk-container-id-1 div.sk-container {/* jupyter's `normalize.less` sets `[hidden] { display: none; }` but bootstrap.min.css set `[hidden] { display: none !important; }` so we also need the `!important` here to be able to override the default hidden behavior on the sphinx rendered scikit-learn.org. See: https://github.com/scikit-learn/scikit-learn/issues/21755 */display: inline-block !important;position: relative;}#sk-container-id-1 div.sk-text-repr-fallback {display: none;}</style><div id=\"sk-container-id-1\" class=\"sk-top-container\"><div class=\"sk-text-repr-fallback\"><pre>Pipeline(steps=[(&#x27;vector&#x27;, TfidfVectorizer()), (&#x27;model&#x27;, MultinomialNB())])</pre><b>In a Jupyter environment, please rerun this cell to show the HTML representation or trust the notebook. <br />On GitHub, the HTML representation is unable to render, please try loading this page with nbviewer.org.</b></div><div class=\"sk-container\" hidden><div class=\"sk-item sk-dashed-wrapped\"><div class=\"sk-label-container\"><div class=\"sk-label sk-toggleable\"><input class=\"sk-toggleable__control sk-hidden--visually\" id=\"sk-estimator-id-1\" type=\"checkbox\" ><label for=\"sk-estimator-id-1\" class=\"sk-toggleable__label sk-toggleable__label-arrow\">Pipeline</label><div class=\"sk-toggleable__content\"><pre>Pipeline(steps=[(&#x27;vector&#x27;, TfidfVectorizer()), (&#x27;model&#x27;, MultinomialNB())])</pre></div></div></div><div class=\"sk-serial\"><div class=\"sk-item\"><div class=\"sk-estimator sk-toggleable\"><input class=\"sk-toggleable__control sk-hidden--visually\" id=\"sk-estimator-id-2\" type=\"checkbox\" ><label for=\"sk-estimator-id-2\" class=\"sk-toggleable__label sk-toggleable__label-arrow\">TfidfVectorizer</label><div class=\"sk-toggleable__content\"><pre>TfidfVectorizer()</pre></div></div></div><div class=\"sk-item\"><div class=\"sk-estimator sk-toggleable\"><input class=\"sk-toggleable__control sk-hidden--visually\" id=\"sk-estimator-id-3\" type=\"checkbox\" ><label for=\"sk-estimator-id-3\" class=\"sk-toggleable__label sk-toggleable__label-arrow\">MultinomialNB</label><div class=\"sk-toggleable__content\"><pre>MultinomialNB()</pre></div></div></div></div></div></div></div>"
            ]
          },
          "metadata": {},
          "execution_count": 22
        }
      ]
    },
    {
      "cell_type": "code",
      "source": [
        "model_0.score(val_sentences,val_label_encoded_int)"
      ],
      "metadata": {
        "colab": {
          "base_uri": "https://localhost:8080/"
        },
        "id": "V1z48PrEmSn8",
        "outputId": "128740fe-e7a4-4d01-abca-eae48fb0d91d"
      },
      "execution_count": null,
      "outputs": [
        {
          "output_type": "execute_result",
          "data": {
            "text/plain": [
              "0.7218323844829869"
            ]
          },
          "metadata": {},
          "execution_count": 23
        }
      ]
    },
    {
      "cell_type": "code",
      "source": [
        "model_0_preds=model_0.predict(val_sentences)"
      ],
      "metadata": {
        "id": "aayuYqaGnj4_"
      },
      "execution_count": null,
      "outputs": []
    },
    {
      "cell_type": "code",
      "source": [
        "from sklearn.metrics import accuracy_score , precision_score"
      ],
      "metadata": {
        "id": "W4G3_pY2no3s"
      },
      "execution_count": null,
      "outputs": []
    },
    {
      "cell_type": "code",
      "source": [
        "accuracy_score(model_0_preds,val_label_encoded_int)"
      ],
      "metadata": {
        "colab": {
          "base_uri": "https://localhost:8080/"
        },
        "id": "1wYFl_sjocX4",
        "outputId": "0b615921-7138-4e4d-bd0c-b2c110cdedd9"
      },
      "execution_count": null,
      "outputs": [
        {
          "output_type": "execute_result",
          "data": {
            "text/plain": [
              "0.7218323844829869"
            ]
          },
          "metadata": {},
          "execution_count": 26
        }
      ]
    },
    {
      "cell_type": "code",
      "source": [
        "precision_score(model_0_preds,val_label_encoded_int,average=\"macro\")"
      ],
      "metadata": {
        "colab": {
          "base_uri": "https://localhost:8080/"
        },
        "id": "Okawev2TooVh",
        "outputId": "b0933753-d1f5-4c4a-cdac-e1ddd345ce6c"
      },
      "execution_count": null,
      "outputs": [
        {
          "output_type": "execute_result",
          "data": {
            "text/plain": [
              "0.5878501847023443"
            ]
          },
          "metadata": {},
          "execution_count": 27
        }
      ]
    },
    {
      "cell_type": "markdown",
      "source": [
        "*NOW WE USE EMBEDDING AND TEXT VECTOR TOKENISATION TO CONVERT OUR TEXT INTO NUMBERS*"
      ],
      "metadata": {
        "id": "OQIX_F00oziO"
      }
    },
    {
      "cell_type": "code",
      "source": [
        "# to calculate the length of each sentense\n",
        "import numpy as np\n",
        "\n",
        "sentense_len = [len(sentense.split()) for sentense in train_sentences]\n",
        "average_len = np.mean(sentense_len)\n",
        "average_len"
      ],
      "metadata": {
        "colab": {
          "base_uri": "https://localhost:8080/"
        },
        "id": "XBsUc1Vsp2Vv",
        "outputId": "d387d3ae-afff-4a6a-a66d-3e4c691a2baa"
      },
      "execution_count": null,
      "outputs": [
        {
          "output_type": "execute_result",
          "data": {
            "text/plain": [
              "26.338269273494777"
            ]
          },
          "metadata": {},
          "execution_count": 28
        }
      ]
    },
    {
      "cell_type": "code",
      "source": [
        "all_sentence_max_length = int(np.percentile(sentense_len,95))\n",
        "all_sentence_max_length"
      ],
      "metadata": {
        "colab": {
          "base_uri": "https://localhost:8080/"
        },
        "id": "UkLhABY1qo0k",
        "outputId": "70ca4b34-d080-4b66-d310-3246300ad5a9"
      },
      "execution_count": null,
      "outputs": [
        {
          "output_type": "execute_result",
          "data": {
            "text/plain": [
              "55"
            ]
          },
          "metadata": {},
          "execution_count": 29
        }
      ]
    },
    {
      "cell_type": "code",
      "source": [
        "from tensorflow.keras.layers.experimental.preprocessing import TextVectorization"
      ],
      "metadata": {
        "id": "yRwEZwP9t5xg"
      },
      "execution_count": null,
      "outputs": []
    },
    {
      "cell_type": "code",
      "source": [
        "\n",
        "\n",
        "\n",
        "\n",
        "text_vector = TextVectorization(max_tokens=68000,output_sequence_length=60)"
      ],
      "metadata": {
        "id": "XXwQDwEWymSf"
      },
      "execution_count": null,
      "outputs": []
    },
    {
      "cell_type": "code",
      "source": [
        "text_vector.adapt(train_sentences)"
      ],
      "metadata": {
        "id": "CPRO5GJ7zmGE"
      },
      "execution_count": null,
      "outputs": []
    },
    {
      "cell_type": "code",
      "source": [
        "import random\n",
        "\n",
        "random_sentence = random.choice(train_sentences)\n",
        "\n",
        "print(f\"random sentense {random_sentence}\\n\")\n",
        "print(f\"sentense after text vectorization {text_vector([random_sentence])}\")"
      ],
      "metadata": {
        "colab": {
          "base_uri": "https://localhost:8080/"
        },
        "id": "i_U7bP79zsa7",
        "outputId": "5147c969-e859-4baf-afdc-a897deb54ab0"
      },
      "execution_count": null,
      "outputs": [
        {
          "output_type": "stream",
          "name": "stdout",
          "text": [
            "random sentense this was a randomised controlled study in @ frail inpatients ( in @ ) .\n",
            "\n",
            "sentense after text vectorization [[  23   10    8  210  106   17    5 5999 3817    5    0    0    0    0\n",
            "     0    0    0    0    0    0    0    0    0    0    0    0    0    0\n",
            "     0    0    0    0    0    0    0    0    0    0    0    0    0    0\n",
            "     0    0    0    0    0    0    0    0    0    0    0    0    0    0\n",
            "     0    0    0    0]]\n"
          ]
        }
      ]
    },
    {
      "cell_type": "code",
      "source": [
        "text_vocal = text_vector.get_vocabulary()\n",
        "\n",
        "print(f\"most comman words {text_vocal[:10]}\")\n",
        "print(f\"{len(text_vocal)}\")"
      ],
      "metadata": {
        "colab": {
          "base_uri": "https://localhost:8080/"
        },
        "id": "fS-l-Q0T0lDI",
        "outputId": "28253940-cc7c-478a-ddb1-b6ea02814339"
      },
      "execution_count": null,
      "outputs": [
        {
          "output_type": "stream",
          "name": "stdout",
          "text": [
            "most comman words ['', '[UNK]', 'the', 'and', 'of', 'in', 'to', 'with', 'a', 'were']\n",
            "64841\n"
          ]
        }
      ]
    },
    {
      "cell_type": "code",
      "source": [
        "text_vector.get_config()"
      ],
      "metadata": {
        "colab": {
          "base_uri": "https://localhost:8080/"
        },
        "id": "PWsFXSxU2xiq",
        "outputId": "93c28e20-72d3-465d-afe2-ebbc520e2832"
      },
      "execution_count": null,
      "outputs": [
        {
          "output_type": "execute_result",
          "data": {
            "text/plain": [
              "{'name': 'text_vectorization',\n",
              " 'trainable': True,\n",
              " 'dtype': 'string',\n",
              " 'batch_input_shape': (None,),\n",
              " 'max_tokens': 68000,\n",
              " 'standardize': 'lower_and_strip_punctuation',\n",
              " 'split': 'whitespace',\n",
              " 'ngrams': None,\n",
              " 'output_mode': 'int',\n",
              " 'output_sequence_length': 60,\n",
              " 'pad_to_max_tokens': False,\n",
              " 'sparse': False,\n",
              " 'ragged': False,\n",
              " 'vocabulary': None,\n",
              " 'idf_weights': None,\n",
              " 'encoding': 'utf-8',\n",
              " 'vocabulary_size': 64841}"
            ]
          },
          "metadata": {},
          "execution_count": 35
        }
      ]
    },
    {
      "cell_type": "code",
      "source": [
        "import tensorflow as tf\n",
        "\n",
        "# now we create our embedding layer\n",
        "\n",
        "emb_layer = tf.keras.layers.Embedding(input_dim=68000,output_dim=128,mask_zero=True)"
      ],
      "metadata": {
        "id": "tK75fjc12_Zz"
      },
      "execution_count": null,
      "outputs": []
    },
    {
      "cell_type": "code",
      "source": [
        "\n",
        "print(f\"random sentense {random_sentence}\\n\")\n",
        "print(f\"sentense after text vectorization {text_vector([random_sentence])}\")\n",
        "print(f\"sentense after text embeding\\n\")\n",
        "print(emb_layer(text_vector([random_sentence])))\n",
        "print(f\"text shape {emb_layer(text_vector([random_sentence])).shape}\")"
      ],
      "metadata": {
        "colab": {
          "base_uri": "https://localhost:8080/"
        },
        "id": "fKzXU_-v5zti",
        "outputId": "b3ce335e-6af4-4d7b-d057-9ba274417ef7"
      },
      "execution_count": null,
      "outputs": [
        {
          "output_type": "stream",
          "name": "stdout",
          "text": [
            "random sentense this was a randomised controlled study in @ frail inpatients ( in @ ) .\n",
            "\n",
            "sentense after text vectorization [[  23   10    8  210  106   17    5 5999 3817    5    0    0    0    0\n",
            "     0    0    0    0    0    0    0    0    0    0    0    0    0    0\n",
            "     0    0    0    0    0    0    0    0    0    0    0    0    0    0\n",
            "     0    0    0    0    0    0    0    0    0    0    0    0    0    0\n",
            "     0    0    0    0]]\n",
            "sentense after text embeding\n",
            "\n",
            "tf.Tensor(\n",
            "[[[ 0.0171364   0.00322754 -0.02614298 ...  0.02033159  0.01437365\n",
            "   -0.03657899]\n",
            "  [ 0.02249786  0.01806566 -0.00403378 ...  0.01958449  0.0363376\n",
            "    0.03665039]\n",
            "  [ 0.02227223 -0.00222002  0.0200556  ... -0.01889789  0.04302771\n",
            "   -0.04472107]\n",
            "  ...\n",
            "  [ 0.04903788  0.03937843 -0.03322144 ... -0.01129693 -0.01082037\n",
            "    0.04325822]\n",
            "  [ 0.04903788  0.03937843 -0.03322144 ... -0.01129693 -0.01082037\n",
            "    0.04325822]\n",
            "  [ 0.04903788  0.03937843 -0.03322144 ... -0.01129693 -0.01082037\n",
            "    0.04325822]]], shape=(1, 60, 128), dtype=float32)\n",
            "text shape (1, 60, 128)\n"
          ]
        }
      ]
    },
    {
      "cell_type": "markdown",
      "source": [
        "**now we create Dataset using tf.data**"
      ],
      "metadata": {
        "id": "LKlWYcMZ8Sb8"
      }
    },
    {
      "cell_type": "code",
      "source": [
        "train_dataset = tf.data.Dataset.from_tensor_slices((train_sentences,train_label_encoded))\n",
        "\n",
        "val_dataset = tf.data.Dataset.from_tensor_slices((val_sentences ,val_label_encoded))\n",
        "\n",
        "test_dataset = tf.data.Dataset.from_tensor_slices(( test_sentences ,test_label_encoded))"
      ],
      "metadata": {
        "id": "0IlLGoeO-EG6"
      },
      "execution_count": null,
      "outputs": []
    },
    {
      "cell_type": "code",
      "source": [
        "train_dataset = train_dataset.batch(32).prefetch(tf.data.AUTOTUNE)\n",
        "\n",
        "val_dataset = val_dataset.batch(32).prefetch(tf.data.AUTOTUNE)\n",
        "\n",
        "test_dataset = test_dataset.batch(32).prefetch(tf.data.AUTOTUNE)"
      ],
      "metadata": {
        "id": "Z1gODRyQ-daQ"
      },
      "execution_count": null,
      "outputs": []
    },
    {
      "cell_type": "markdown",
      "source": [
        "**NOW WE TRY OUR SECOND MODEL CONVOLUTION MODEL**"
      ],
      "metadata": {
        "id": "xWRa4e9mA7Kc"
      }
    },
    {
      "cell_type": "code",
      "source": [
        "inputs = tf.keras.Input(shape=(1,),dtype=\"string\")\n",
        "\n",
        "text_vectors = text_vector(inputs)\n",
        "\n",
        "emb = emb_layer(text_vectors)\n",
        "\n",
        "x = tf.keras.layers.Conv1D(filters=64,kernel_size=8,padding=\"same\",activation=\"relu\") (emb)\n",
        "\n",
        "x = tf.keras.layers.GlobalAvgPool1D()(x)\n",
        "\n",
        "outputs = tf.keras.layers.Dense(5,activation=\"softmax\") (x)\n",
        "\n",
        "model_1 = tf.keras.Model(inputs,outputs)"
      ],
      "metadata": {
        "id": "3dD0H25bavN7"
      },
      "execution_count": null,
      "outputs": []
    },
    {
      "cell_type": "code",
      "source": [
        "model_1.compile(loss=tf.keras.losses.CategoricalCrossentropy(),optimizer=tf.keras.optimizers.Adam(),metrics=tf.keras.metrics.Accuracy())"
      ],
      "metadata": {
        "id": "ZTyVQ9VcdLgb"
      },
      "execution_count": null,
      "outputs": []
    },
    {
      "cell_type": "code",
      "source": [
        "model_1.summary()"
      ],
      "metadata": {
        "colab": {
          "base_uri": "https://localhost:8080/"
        },
        "id": "iV1eE3IHdSnO",
        "outputId": "f1bae555-953e-413b-d3d3-0827319cef7c"
      },
      "execution_count": null,
      "outputs": [
        {
          "output_type": "stream",
          "name": "stdout",
          "text": [
            "Model: \"model\"\n",
            "_________________________________________________________________\n",
            " Layer (type)                Output Shape              Param #   \n",
            "=================================================================\n",
            " input_1 (InputLayer)        [(None, 1)]               0         \n",
            "                                                                 \n",
            " text_vectorization (TextVec  (None, 60)               0         \n",
            " torization)                                                     \n",
            "                                                                 \n",
            " embedding (Embedding)       (None, 60, 128)           8704000   \n",
            "                                                                 \n",
            " conv1d (Conv1D)             (None, 60, 64)            65600     \n",
            "                                                                 \n",
            " global_average_pooling1d (G  (None, 64)               0         \n",
            " lobalAveragePooling1D)                                          \n",
            "                                                                 \n",
            " dense (Dense)               (None, 5)                 325       \n",
            "                                                                 \n",
            "=================================================================\n",
            "Total params: 8,769,925\n",
            "Trainable params: 8,769,925\n",
            "Non-trainable params: 0\n",
            "_________________________________________________________________\n"
          ]
        }
      ]
    },
    {
      "cell_type": "code",
      "source": [
        "tbc = tf.keras.callbacks.TensorBoard(log_dir=\"tbc\")\n"
      ],
      "metadata": {
        "id": "6vpzKyQyfX08"
      },
      "execution_count": null,
      "outputs": []
    },
    {
      "cell_type": "code",
      "source": [
        "history_1 = model_1.fit(train_dataset,epochs=3,steps_per_epoch=int((0.2*len(train_dataset))),validation_data=val_dataset,validation_steps=int(0.2*len(val_dataset)),callbacks=[tbc])"
      ],
      "metadata": {
        "colab": {
          "base_uri": "https://localhost:8080/"
        },
        "id": "lcaQ3ORIeWHf",
        "outputId": "8afe3304-e833-4d7c-e871-786dea1425c6"
      },
      "execution_count": null,
      "outputs": [
        {
          "output_type": "stream",
          "name": "stdout",
          "text": [
            "Epoch 1/3\n",
            "1125/1125 [==============================] - 50s 36ms/step - loss: 0.7842 - accuracy: 1.2778e-04 - val_loss: 0.6405 - val_accuracy: 6.6138e-05\n",
            "Epoch 2/3\n",
            "1125/1125 [==============================] - 11s 10ms/step - loss: 0.6024 - accuracy: 4.3889e-04 - val_loss: 0.5665 - val_accuracy: 1.9841e-04\n",
            "Epoch 3/3\n",
            "1125/1125 [==============================] - 11s 10ms/step - loss: 0.5803 - accuracy: 3.8889e-04 - val_loss: 0.5364 - val_accuracy: 1.6534e-04\n"
          ]
        }
      ]
    },
    {
      "cell_type": "code",
      "source": [
        "model_1.evaluate(val_dataset)"
      ],
      "metadata": {
        "colab": {
          "base_uri": "https://localhost:8080/"
        },
        "id": "-uuVpkvUgU3Q",
        "outputId": "1db9dfce-3ecf-4aa5-f2af-5aa14e0af6f1"
      },
      "execution_count": null,
      "outputs": [
        {
          "output_type": "stream",
          "name": "stdout",
          "text": [
            "945/945 [==============================] - 3s 3ms/step - loss: 0.5422 - accuracy: 3.1113e-04\n"
          ]
        },
        {
          "output_type": "execute_result",
          "data": {
            "text/plain": [
              "[0.5422238707542419, 0.00031113464501686394]"
            ]
          },
          "metadata": {},
          "execution_count": 45
        }
      ]
    },
    {
      "cell_type": "code",
      "source": [
        "model_1_preds = model_1.predict(val_dataset)\n",
        "model_1_preds"
      ],
      "metadata": {
        "colab": {
          "base_uri": "https://localhost:8080/"
        },
        "id": "kfZnYeaThlo4",
        "outputId": "6df0bc61-cc8f-4287-fcae-a04fb56134cb"
      },
      "execution_count": null,
      "outputs": [
        {
          "output_type": "stream",
          "name": "stdout",
          "text": [
            "945/945 [==============================] - 2s 2ms/step\n"
          ]
        },
        {
          "output_type": "execute_result",
          "data": {
            "text/plain": [
              "array([[5.6168699e-01, 1.7098467e-01, 3.0597018e-02, 1.8451841e-01,\n",
              "        5.2212853e-02],\n",
              "       [5.9040463e-01, 1.8563771e-01, 1.2842112e-02, 1.9056393e-01,\n",
              "        2.0551702e-02],\n",
              "       [2.4167377e-01, 4.1179592e-03, 1.0280156e-04, 7.5409043e-01,\n",
              "        1.5046551e-05],\n",
              "       ...,\n",
              "       [2.4680179e-05, 3.1925170e-04, 3.5596136e-03, 1.5798279e-05,\n",
              "        9.9608070e-01],\n",
              "       [2.9658571e-01, 2.6953098e-01, 9.1962717e-02, 1.4866292e-01,\n",
              "        1.9325759e-01],\n",
              "       [8.0937251e-02, 8.5312670e-01, 3.7966494e-02, 6.7286692e-03,\n",
              "        2.1240899e-02]], dtype=float32)"
            ]
          },
          "metadata": {},
          "execution_count": 46
        }
      ]
    },
    {
      "cell_type": "code",
      "source": [
        "model_1_pred_classes = tf.argmax(model_1_preds,axis=1)\n",
        "model_1_pred_classes"
      ],
      "metadata": {
        "colab": {
          "base_uri": "https://localhost:8080/"
        },
        "id": "Ag94rEQWiDEx",
        "outputId": "0092808d-d084-4637-82f2-7fcacc76236e"
      },
      "execution_count": null,
      "outputs": [
        {
          "output_type": "execute_result",
          "data": {
            "text/plain": [
              "<tf.Tensor: shape=(30212,), dtype=int64, numpy=array([0, 0, 3, ..., 4, 0, 1])>"
            ]
          },
          "metadata": {},
          "execution_count": 47
        }
      ]
    },
    {
      "cell_type": "markdown",
      "source": [
        "**NOW WE CAME TO 2nd MODEL OUR FEATURE EXTRACTOR AND PRETRAINED MODEL**"
      ],
      "metadata": {
        "id": "7VHI9BIRijCH"
      }
    },
    {
      "cell_type": "code",
      "source": [
        "import tensorflow_hub as hub\n",
        "hub_model = hub.KerasLayer(\"https://tfhub.dev/google/universal-sentence-encoder/4\",trainable=False)\n"
      ],
      "metadata": {
        "id": "oxRNzSoHjdy4"
      },
      "execution_count": null,
      "outputs": []
    },
    {
      "cell_type": "code",
      "source": [
        "random_sentense = random.choice(train_sentences)\n",
        "print(f\"our text {random_sentense}\\n\")\n",
        "print(f\"converted to hub layer encoder{hub_model([random_sentense])}\\n\")\n",
        "print(f\"len of each sentense {hub_model([random_sentense]).shape}\")\n"
      ],
      "metadata": {
        "colab": {
          "base_uri": "https://localhost:8080/"
        },
        "id": "nfCTNm3Mqx9T",
        "outputId": "8b042c15-da1d-4b84-c13e-246ddf2cf3aa"
      },
      "execution_count": null,
      "outputs": [
        {
          "output_type": "stream",
          "name": "stdout",
          "text": [
            "our text the extended-release formulation of quetiapine ( quetiapine xr ) , which was developed to provide more convenient once-daily administration , has been widely studied to characterize its pharmacokinetics in caucasian populations but has rarely been studied in an asia population .\n",
            "\n",
            "converted to hub layer encoder[[-7.29183927e-02  6.24767058e-02 -2.10574325e-02 -5.15416786e-02\n",
            "  -1.59028508e-02  7.47298300e-02  3.92152667e-02 -2.27420591e-03\n",
            "   2.71585155e-02 -1.15752434e-02  5.71221523e-02  3.30412723e-02\n",
            "   7.88612738e-02  2.08023507e-02  2.97896769e-02  2.55759303e-02\n",
            "  -6.06225021e-02  6.17756546e-02 -4.22803015e-02 -6.30316585e-02\n",
            "  -7.59818032e-02 -3.72780487e-02 -4.29459289e-02  4.15542349e-03\n",
            "   3.62447985e-02  5.61322793e-02  7.28673413e-02  1.02833081e-02\n",
            "  -5.40571660e-02 -5.59909418e-02  7.46258050e-02  8.54560286e-02\n",
            "   5.55113016e-04 -1.39212450e-02 -1.85893588e-02 -1.27356616e-04\n",
            "  -6.75543472e-02 -3.08261439e-03 -5.66171333e-02  9.49408335e-04\n",
            "  -1.93867143e-02  7.75231197e-02 -4.85047279e-03  5.27505092e-02\n",
            "   3.70520204e-02  8.72769393e-03  1.28847426e-02  6.23179153e-02\n",
            "   6.92224689e-03 -1.42473192e-03 -2.97390483e-02  2.94318702e-02\n",
            "  -8.81628413e-03 -1.13619771e-02  3.97321656e-02  6.38911128e-02\n",
            "  -2.78365221e-02  4.24683243e-02  8.14807490e-02 -4.69491147e-02\n",
            "   1.10078594e-02 -4.98075821e-02  1.27212312e-02  3.07257604e-02\n",
            "  -2.64915377e-02 -5.92371374e-02  6.45684600e-02  1.60319619e-02\n",
            "   1.79145187e-02 -2.14387514e-02 -2.39089299e-02 -9.70915984e-03\n",
            "   7.12353587e-02  3.65149230e-02 -3.86307538e-02  5.30936532e-02\n",
            "  -1.85605809e-02  1.23420283e-02 -3.34500894e-02  6.06591888e-02\n",
            "  -2.13701837e-02  4.94205207e-03  6.21587001e-02  6.81278631e-02\n",
            "   7.17809191e-03  2.39462741e-02  2.77203973e-02  2.28672978e-02\n",
            "  -2.60483641e-02 -3.32069434e-02 -4.19840105e-02 -2.30706967e-02\n",
            "   5.70482714e-03  3.79408300e-02  2.03587650e-03  7.19646290e-02\n",
            "  -3.97036271e-03  3.24190408e-03  6.93909973e-02 -4.32321206e-02\n",
            "   1.03535438e-02 -4.66753915e-02  1.87358540e-02  6.77985251e-02\n",
            "   5.43047525e-02 -3.05677820e-02 -1.38219642e-02  3.69391069e-02\n",
            "  -8.74516927e-03 -4.91255987e-03  6.60409182e-02  1.54352756e-02\n",
            "  -1.81350969e-02  6.09680749e-02  3.41303088e-02  6.80840462e-02\n",
            "  -7.51177818e-02  7.85299484e-03 -6.66633714e-03  2.13989895e-02\n",
            "  -1.01297311e-02  2.22249795e-02  1.98231470e-02 -2.44275504e-03\n",
            "   1.74967777e-02 -2.57463362e-02  8.64330456e-02  4.44236808e-02\n",
            "   3.41263972e-02  5.32792546e-02  9.60883801e-04  8.65798816e-02\n",
            "   5.55589609e-02  3.91729623e-02 -1.23350769e-02  6.58909008e-02\n",
            "   6.82050511e-02  1.81331169e-02  1.33865792e-02 -7.17537999e-02\n",
            "  -2.10787859e-02  8.19927976e-02 -3.81882023e-03 -3.27146128e-02\n",
            "   3.94192291e-03 -4.06533144e-02 -5.46656025e-04  3.95796373e-02\n",
            "   8.25345591e-02  3.36452536e-02 -4.33878088e-03 -1.52900424e-02\n",
            "  -4.78554629e-02  3.48555744e-02  8.54851827e-02 -3.50931622e-02\n",
            "   5.54949716e-02  5.60598262e-02  4.30094488e-02 -1.95305645e-02\n",
            "   5.68848522e-03 -5.76394705e-05 -2.12495797e-03 -2.76825707e-02\n",
            "   4.92344499e-02  3.37242782e-02  3.97494435e-02 -2.63100863e-02\n",
            "  -6.81434870e-02  5.82698127e-03  7.15947244e-03 -5.04340231e-02\n",
            "   5.07052056e-02  2.43805256e-02 -5.60451336e-02  5.02550788e-02\n",
            "  -1.37999998e-02  5.74696697e-02 -4.99058440e-02  5.74783310e-02\n",
            "   2.65500471e-02 -3.57884318e-02  1.58378948e-02 -5.71605936e-02\n",
            "  -6.84562605e-03  5.23260504e-04  2.74188872e-02 -5.74409775e-02\n",
            "  -1.27859563e-02  2.83280350e-02  4.56953570e-02 -4.73336503e-02\n",
            "  -2.94171944e-02  1.44945644e-02  6.62888288e-02  9.27300716e-04\n",
            "   6.89723641e-02 -1.58949022e-03 -5.69864511e-02 -6.99666515e-02\n",
            "  -6.23050518e-02  1.48203196e-02 -6.98166015e-03  3.30274552e-02\n",
            "  -4.95879799e-02 -6.77511692e-02  4.14122008e-02  4.33978438e-02\n",
            "  -3.27789318e-03  4.23949771e-02 -1.44459149e-02 -6.35094792e-02\n",
            "   3.84932384e-02  5.94216362e-02 -6.47758096e-02  4.75451536e-02\n",
            "   5.64689115e-02  3.96452583e-02  3.38052735e-02 -7.27688149e-02\n",
            "  -4.77578230e-02  2.21121637e-03  2.15601307e-04  1.56879760e-02\n",
            "   4.69245277e-02  6.56425804e-02 -2.02681068e-02  4.87240590e-02\n",
            "   1.03203999e-02  3.43874879e-02  2.68444009e-02 -6.13357984e-02\n",
            "   2.81394552e-03 -7.49816671e-02 -2.09195185e-02 -6.21975865e-03\n",
            "   1.58476345e-02 -3.25261764e-02 -4.96073663e-02  5.51297367e-02\n",
            "  -2.70236470e-02 -2.32140347e-02  5.77251501e-02 -1.44462776e-03\n",
            "  -3.96616431e-03 -4.52477597e-02 -3.35674696e-02 -6.19483218e-02\n",
            "   4.76853773e-02 -8.45802203e-02  5.98595776e-02 -5.79349361e-02\n",
            "  -4.79795933e-02  7.90405348e-02  6.50712699e-02 -5.21426983e-02\n",
            "   1.90324616e-02  7.81381428e-02 -1.60839520e-02  3.96412686e-02\n",
            "  -8.07747804e-03  2.16594804e-02  1.43114496e-02  8.38878565e-03\n",
            "  -7.98037723e-02 -1.15596103e-02 -3.33977081e-02  1.41919460e-02\n",
            "  -2.90697790e-04  1.80463959e-02  3.03564426e-02  5.67665733e-02\n",
            "  -4.87655327e-02 -6.82783797e-02 -5.84332868e-02  2.88048503e-03\n",
            "   2.20132880e-02  6.75267056e-02 -4.94959652e-02  5.57391159e-02\n",
            "  -6.38579652e-02 -4.43020724e-02  5.65368682e-02 -2.10066922e-02\n",
            "   4.68933024e-02 -9.99059621e-03 -1.07721072e-02 -1.97272897e-02\n",
            "  -2.69324388e-02 -6.18266426e-02  1.79754419e-03  1.09981019e-02\n",
            "  -1.62596591e-02 -4.66645733e-02  8.19531232e-02 -1.56196197e-02\n",
            "   5.03834486e-02  2.69587319e-02 -7.02040642e-02  4.95405793e-02\n",
            "  -3.65743190e-02  2.68979110e-02 -2.87084728e-02 -4.97704484e-02\n",
            "  -5.39962128e-02  5.03904782e-02  4.06568572e-02 -3.44558507e-02\n",
            "  -5.32391258e-02 -1.83466077e-02 -9.00397357e-03  2.31517870e-02\n",
            "   5.82724344e-03  1.01129105e-02  1.59310512e-02  3.34495679e-02\n",
            "   7.61000440e-03 -6.37039989e-02  5.35148717e-02  3.10799144e-02\n",
            "  -6.99120834e-02  5.52781411e-02  6.98904172e-02 -3.12534496e-02\n",
            "  -8.64626020e-02 -4.36627939e-02  8.41569901e-03 -6.23051710e-02\n",
            "  -1.68653689e-02  4.44775410e-02 -4.77191806e-02  4.65425290e-02\n",
            "   5.80589511e-02  1.48921250e-03 -1.04292361e-02 -4.76764217e-02\n",
            "  -9.75577720e-03 -7.52327964e-02  3.49039622e-02 -3.29176401e-04\n",
            "  -5.42882420e-02 -2.65200660e-02  8.14716667e-02  2.35732757e-02\n",
            "  -3.70568894e-02 -7.27764741e-02  7.11117238e-02  1.24929203e-02\n",
            "  -2.89106462e-03 -5.81351183e-02 -6.82342658e-03  5.04440479e-02\n",
            "   1.38142966e-02  3.66395153e-02  6.19891435e-02  4.34262380e-02\n",
            "  -7.08707273e-02 -4.70165052e-02  5.95136508e-02  2.51405425e-02\n",
            "   1.68512873e-02  3.66234337e-03 -5.95844723e-02 -2.24737413e-02\n",
            "  -2.60664523e-02 -7.87785053e-02  7.98980221e-02 -4.96302322e-02\n",
            "   5.29140607e-02  4.34331000e-02  1.88284814e-02 -1.78384501e-02\n",
            "  -1.33925062e-02 -4.31834627e-03  5.69651052e-02  2.05058660e-02\n",
            "   5.38950861e-02 -7.21658170e-02 -6.78549632e-02 -5.33881932e-02\n",
            "  -1.85120869e-02 -3.56990844e-02  7.89816529e-02  6.55159354e-02\n",
            "   4.83662002e-02  5.48754483e-02  1.30519997e-02  3.51152793e-02\n",
            "   5.06487153e-02  8.20410158e-03  4.53966223e-02  5.91726787e-02\n",
            "  -2.10176427e-02 -5.71520440e-02  4.04444411e-02 -5.09746671e-02\n",
            "   4.72130552e-02 -2.00492572e-02 -2.10173596e-02 -8.62153694e-02\n",
            "  -1.65730678e-02  7.21073300e-02 -1.99204050e-02 -2.48714946e-02\n",
            "  -4.45996635e-02  3.62399966e-02 -4.94214781e-02  1.20295789e-02\n",
            "  -2.69128922e-02 -8.15918297e-02 -2.66567171e-02  7.61372037e-04\n",
            "  -6.57445565e-02  1.52832167e-02  4.87879217e-02 -7.15079606e-02\n",
            "  -1.54595058e-02  2.40907129e-02 -6.63370639e-02  2.30757277e-02\n",
            "  -2.35034302e-02 -7.43580014e-02  3.22570764e-02  5.99991828e-02\n",
            "  -4.89505827e-02  4.07955870e-02  5.15022948e-02 -1.62061881e-02\n",
            "  -4.06545959e-02 -6.00056276e-02 -3.15376334e-02 -6.98162988e-02\n",
            "  -8.97643715e-03  9.59388912e-03 -5.66523150e-02  2.09460855e-02\n",
            "   1.48324426e-02  3.19114625e-02  5.22373393e-02 -5.01791649e-02\n",
            "   3.30757275e-02 -3.01954336e-02 -7.31086209e-02  3.31371576e-02\n",
            "   1.14156576e-02  2.30024122e-02 -7.35347494e-02 -1.36124929e-02\n",
            "   7.45011643e-02  4.47241822e-04 -5.19375950e-02 -1.13284225e-02\n",
            "  -3.98420775e-03  2.98334435e-02 -7.03924289e-03 -1.55111328e-02\n",
            "   3.38812359e-03  8.51449966e-02  2.73199696e-02  1.60590094e-02\n",
            "   3.56916748e-02 -2.98021245e-03 -2.94200648e-02  7.32774734e-02\n",
            "  -2.68568639e-02 -2.85809543e-02 -5.05541489e-02  2.74044722e-02\n",
            "   2.15696055e-03 -2.57256255e-02 -1.52137429e-02 -6.32228190e-03\n",
            "   4.47320268e-02  5.84348924e-02 -2.71194093e-02  6.93367608e-03\n",
            "   5.63274845e-02  3.69875543e-02  3.64633240e-02  7.99921677e-02\n",
            "   8.01675096e-02  5.38379848e-02 -3.17454413e-02 -2.10205615e-02\n",
            "   6.20868653e-02  8.02014843e-02  1.97172239e-02  3.76612656e-02\n",
            "   2.59523187e-02 -2.78683528e-02 -3.95526662e-02 -1.32743279e-02\n",
            "   4.75621223e-02 -6.84809089e-02  4.67543527e-02 -2.86999121e-02\n",
            "   5.25999777e-02 -1.79923829e-02  5.78538030e-02 -6.66047260e-02\n",
            "  -6.74894229e-02 -4.38640863e-02  6.75679464e-03 -8.44586417e-02\n",
            "   3.01822200e-02 -8.74213278e-02  4.35902812e-02 -1.28561985e-02\n",
            "  -6.06299713e-02 -4.94367965e-02 -1.24162845e-02 -7.48151690e-02]]\n",
            "\n",
            "len of each sentense (1, 512)\n"
          ]
        }
      ]
    },
    {
      "cell_type": "code",
      "source": [
        "inputs = tf.keras.Input(shape=(),dtype=tf.string)\n",
        "\n",
        "pretrained_emb = hub_model(inputs)\n",
        "\n",
        "\n",
        "x = tf.keras.layers.Dense(64,activation=\"relu\") (pretrained_emb)\n",
        "\n",
        "\n",
        "\n",
        "outputs = tf.keras.layers.Dense(5,activation=\"softmax\") (x)\n",
        "\n",
        "model_2 = tf.keras.Model(inputs,outputs)\n"
      ],
      "metadata": {
        "id": "Ghp9XH7Lr4Bc"
      },
      "execution_count": null,
      "outputs": []
    },
    {
      "cell_type": "code",
      "source": [
        "model_2.compile(loss=tf.keras.losses.CategoricalCrossentropy(),optimizer=tf.keras.optimizers.Adam(),metrics=\"accuracy\")"
      ],
      "metadata": {
        "id": "oHAEuO2Xw6OW"
      },
      "execution_count": null,
      "outputs": []
    },
    {
      "cell_type": "code",
      "source": [
        "history_2 = model_2.fit(train_dataset,epochs=3,steps_per_epoch=int((0.2*len(train_dataset))),validation_data=val_dataset,validation_steps=int(0.2*len(val_dataset)),callbacks=[tbc])"
      ],
      "metadata": {
        "colab": {
          "base_uri": "https://localhost:8080/"
        },
        "id": "a2jCpXCtzLst",
        "outputId": "423e0bad-7827-4f60-aeb3-cf7f39d8c144"
      },
      "execution_count": null,
      "outputs": [
        {
          "output_type": "stream",
          "name": "stdout",
          "text": [
            "Epoch 1/3\n",
            "1125/1125 [==============================] - 20s 15ms/step - loss: 0.8741 - accuracy: 0.6650 - val_loss: 0.7674 - val_accuracy: 0.7025\n",
            "Epoch 2/3\n",
            "1125/1125 [==============================] - 15s 14ms/step - loss: 0.7540 - accuracy: 0.7106 - val_loss: 0.7396 - val_accuracy: 0.7174\n",
            "Epoch 3/3\n",
            "1125/1125 [==============================] - 16s 14ms/step - loss: 0.7484 - accuracy: 0.7148 - val_loss: 0.7106 - val_accuracy: 0.7307\n"
          ]
        }
      ]
    },
    {
      "cell_type": "code",
      "source": [
        "model_2.evaluate(val_dataset)"
      ],
      "metadata": {
        "colab": {
          "base_uri": "https://localhost:8080/"
        },
        "id": "w4f7Lgkpzpic",
        "outputId": "2f9c5c20-04ee-4184-f52c-777f507b5640"
      },
      "execution_count": null,
      "outputs": [
        {
          "output_type": "stream",
          "name": "stdout",
          "text": [
            "945/945 [==============================] - 11s 11ms/step - loss: 0.7129 - accuracy: 0.7274\n"
          ]
        },
        {
          "output_type": "execute_result",
          "data": {
            "text/plain": [
              "[0.7129324078559875, 0.7273930907249451]"
            ]
          },
          "metadata": {},
          "execution_count": 53
        }
      ]
    },
    {
      "cell_type": "code",
      "source": [
        "model_2_preds = model_2.predict(val_dataset)"
      ],
      "metadata": {
        "colab": {
          "base_uri": "https://localhost:8080/"
        },
        "id": "6cdreCa50HP0",
        "outputId": "43d95be7-ce73-4378-ee0f-2853d652f672"
      },
      "execution_count": null,
      "outputs": [
        {
          "output_type": "stream",
          "name": "stdout",
          "text": [
            "945/945 [==============================] - 10s 11ms/step\n"
          ]
        }
      ]
    },
    {
      "cell_type": "code",
      "source": [
        "model_2_pred_classes = tf.argmax(model_2_preds,axis=1)\n",
        "model_2_pred_classes"
      ],
      "metadata": {
        "colab": {
          "base_uri": "https://localhost:8080/"
        },
        "id": "bUnNz9ix0S2V",
        "outputId": "5d6569a5-6a9d-488b-8f55-810707fe1868"
      },
      "execution_count": null,
      "outputs": [
        {
          "output_type": "execute_result",
          "data": {
            "text/plain": [
              "<tf.Tensor: shape=(30212,), dtype=int64, numpy=array([0, 1, 3, ..., 4, 4, 2])>"
            ]
          },
          "metadata": {},
          "execution_count": 55
        }
      ]
    },
    {
      "cell_type": "markdown",
      "source": [
        "**NOW WE CREATE MODEL 3 WITH CHARACTER EMBEDDING**\n",
        "\n",
        "*FIRST WE CREATE CHARACTER LEVEL TOKENIZER*"
      ],
      "metadata": {
        "id": "InkbeFM834SZ"
      }
    },
    {
      "cell_type": "code",
      "source": [
        "list(\"\".join(train_sentences[0]))"
      ],
      "metadata": {
        "colab": {
          "base_uri": "https://localhost:8080/"
        },
        "id": "1QYiUgMT4oWW",
        "outputId": "c67b3ca9-a2dd-42eb-ce82-6084bf4ac4c9"
      },
      "execution_count": null,
      "outputs": [
        {
          "output_type": "execute_result",
          "data": {
            "text/plain": [
              "['t',\n",
              " 'o',\n",
              " ' ',\n",
              " 'i',\n",
              " 'n',\n",
              " 'v',\n",
              " 'e',\n",
              " 's',\n",
              " 't',\n",
              " 'i',\n",
              " 'g',\n",
              " 'a',\n",
              " 't',\n",
              " 'e',\n",
              " ' ',\n",
              " 't',\n",
              " 'h',\n",
              " 'e',\n",
              " ' ',\n",
              " 'e',\n",
              " 'f',\n",
              " 'f',\n",
              " 'i',\n",
              " 'c',\n",
              " 'a',\n",
              " 'c',\n",
              " 'y',\n",
              " ' ',\n",
              " 'o',\n",
              " 'f',\n",
              " ' ',\n",
              " '@',\n",
              " ' ',\n",
              " 'w',\n",
              " 'e',\n",
              " 'e',\n",
              " 'k',\n",
              " 's',\n",
              " ' ',\n",
              " 'o',\n",
              " 'f',\n",
              " ' ',\n",
              " 'd',\n",
              " 'a',\n",
              " 'i',\n",
              " 'l',\n",
              " 'y',\n",
              " ' ',\n",
              " 'l',\n",
              " 'o',\n",
              " 'w',\n",
              " '-',\n",
              " 'd',\n",
              " 'o',\n",
              " 's',\n",
              " 'e',\n",
              " ' ',\n",
              " 'o',\n",
              " 'r',\n",
              " 'a',\n",
              " 'l',\n",
              " ' ',\n",
              " 'p',\n",
              " 'r',\n",
              " 'e',\n",
              " 'd',\n",
              " 'n',\n",
              " 'i',\n",
              " 's',\n",
              " 'o',\n",
              " 'l',\n",
              " 'o',\n",
              " 'n',\n",
              " 'e',\n",
              " ' ',\n",
              " 'i',\n",
              " 'n',\n",
              " ' ',\n",
              " 'i',\n",
              " 'm',\n",
              " 'p',\n",
              " 'r',\n",
              " 'o',\n",
              " 'v',\n",
              " 'i',\n",
              " 'n',\n",
              " 'g',\n",
              " ' ',\n",
              " 'p',\n",
              " 'a',\n",
              " 'i',\n",
              " 'n',\n",
              " ' ',\n",
              " ',',\n",
              " ' ',\n",
              " 'm',\n",
              " 'o',\n",
              " 'b',\n",
              " 'i',\n",
              " 'l',\n",
              " 'i',\n",
              " 't',\n",
              " 'y',\n",
              " ' ',\n",
              " ',',\n",
              " ' ',\n",
              " 'a',\n",
              " 'n',\n",
              " 'd',\n",
              " ' ',\n",
              " 's',\n",
              " 'y',\n",
              " 's',\n",
              " 't',\n",
              " 'e',\n",
              " 'm',\n",
              " 'i',\n",
              " 'c',\n",
              " ' ',\n",
              " 'l',\n",
              " 'o',\n",
              " 'w',\n",
              " '-',\n",
              " 'g',\n",
              " 'r',\n",
              " 'a',\n",
              " 'd',\n",
              " 'e',\n",
              " ' ',\n",
              " 'i',\n",
              " 'n',\n",
              " 'f',\n",
              " 'l',\n",
              " 'a',\n",
              " 'm',\n",
              " 'm',\n",
              " 'a',\n",
              " 't',\n",
              " 'i',\n",
              " 'o',\n",
              " 'n',\n",
              " ' ',\n",
              " 'i',\n",
              " 'n',\n",
              " ' ',\n",
              " 't',\n",
              " 'h',\n",
              " 'e',\n",
              " ' ',\n",
              " 's',\n",
              " 'h',\n",
              " 'o',\n",
              " 'r',\n",
              " 't',\n",
              " ' ',\n",
              " 't',\n",
              " 'e',\n",
              " 'r',\n",
              " 'm',\n",
              " ' ',\n",
              " 'a',\n",
              " 'n',\n",
              " 'd',\n",
              " ' ',\n",
              " 'w',\n",
              " 'h',\n",
              " 'e',\n",
              " 't',\n",
              " 'h',\n",
              " 'e',\n",
              " 'r',\n",
              " ' ',\n",
              " 't',\n",
              " 'h',\n",
              " 'e',\n",
              " ' ',\n",
              " 'e',\n",
              " 'f',\n",
              " 'f',\n",
              " 'e',\n",
              " 'c',\n",
              " 't',\n",
              " ' ',\n",
              " 'w',\n",
              " 'o',\n",
              " 'u',\n",
              " 'l',\n",
              " 'd',\n",
              " ' ',\n",
              " 'b',\n",
              " 'e',\n",
              " ' ',\n",
              " 's',\n",
              " 'u',\n",
              " 's',\n",
              " 't',\n",
              " 'a',\n",
              " 'i',\n",
              " 'n',\n",
              " 'e',\n",
              " 'd',\n",
              " ' ',\n",
              " 'a',\n",
              " 't',\n",
              " ' ',\n",
              " '@',\n",
              " ' ',\n",
              " 'w',\n",
              " 'e',\n",
              " 'e',\n",
              " 'k',\n",
              " 's',\n",
              " ' ',\n",
              " 'i',\n",
              " 'n',\n",
              " ' ',\n",
              " 'o',\n",
              " 'l',\n",
              " 'd',\n",
              " 'e',\n",
              " 'r',\n",
              " ' ',\n",
              " 'a',\n",
              " 'd',\n",
              " 'u',\n",
              " 'l',\n",
              " 't',\n",
              " 's',\n",
              " ' ',\n",
              " 'w',\n",
              " 'i',\n",
              " 't',\n",
              " 'h',\n",
              " ' ',\n",
              " 'm',\n",
              " 'o',\n",
              " 'd',\n",
              " 'e',\n",
              " 'r',\n",
              " 'a',\n",
              " 't',\n",
              " 'e',\n",
              " ' ',\n",
              " 't',\n",
              " 'o',\n",
              " ' ',\n",
              " 's',\n",
              " 'e',\n",
              " 'v',\n",
              " 'e',\n",
              " 'r',\n",
              " 'e',\n",
              " ' ',\n",
              " 'k',\n",
              " 'n',\n",
              " 'e',\n",
              " 'e',\n",
              " ' ',\n",
              " 'o',\n",
              " 's',\n",
              " 't',\n",
              " 'e',\n",
              " 'o',\n",
              " 'a',\n",
              " 'r',\n",
              " 't',\n",
              " 'h',\n",
              " 'r',\n",
              " 'i',\n",
              " 't',\n",
              " 'i',\n",
              " 's',\n",
              " ' ',\n",
              " '(',\n",
              " ' ',\n",
              " 'o',\n",
              " 'a',\n",
              " ' ',\n",
              " ')',\n",
              " ' ',\n",
              " '.']"
            ]
          },
          "metadata": {},
          "execution_count": 56
        }
      ]
    },
    {
      "cell_type": "code",
      "source": [
        "def char_tokeniser(sentences):\n",
        "  return \" \".join(list(sentences))\n",
        "\n",
        "\n",
        "char_tokeniser(random_sentence)"
      ],
      "metadata": {
        "colab": {
          "base_uri": "https://localhost:8080/",
          "height": 36
        },
        "id": "E92fQQJx5fkm",
        "outputId": "8806e82e-4528-4c2a-c7e3-9a13eb7e41b6"
      },
      "execution_count": null,
      "outputs": [
        {
          "output_type": "execute_result",
          "data": {
            "text/plain": [
              "'t h i s   w a s   a   r a n d o m i s e d   c o n t r o l l e d   s t u d y   i n   @   f r a i l   i n p a t i e n t s   (   i n   @   )   .'"
            ],
            "application/vnd.google.colaboratory.intrinsic+json": {
              "type": "string"
            }
          },
          "metadata": {},
          "execution_count": 57
        }
      ]
    },
    {
      "cell_type": "code",
      "source": [
        "# now we apply this for our train,val,test sentenses\n",
        "\n",
        "train_chars = [char_tokeniser(sentense) for sentense in train_sentences]\n",
        "\n",
        "val_chars = [char_tokeniser(sentense) for sentense in val_sentences]\n",
        "\n",
        "test_chars = [char_tokeniser(sentense) for sentense in test_sentences]"
      ],
      "metadata": {
        "id": "VZ304nsl6J_y"
      },
      "execution_count": null,
      "outputs": []
    },
    {
      "cell_type": "code",
      "source": [
        "# now we calculate average character length\n",
        "\n",
        "char_len = [len(sentense) for sentense in train_sentences]\n",
        "\n",
        "avg_char_len = np.mean(char_len)\n",
        "\n",
        "avg_char_len"
      ],
      "metadata": {
        "colab": {
          "base_uri": "https://localhost:8080/"
        },
        "id": "zGv8yMpU7QOm",
        "outputId": "4a33f552-31cd-4869-f714-7c6bb03ec340"
      },
      "execution_count": null,
      "outputs": [
        {
          "output_type": "execute_result",
          "data": {
            "text/plain": [
              "149.3662574983337"
            ]
          },
          "metadata": {},
          "execution_count": 59
        }
      ]
    },
    {
      "cell_type": "code",
      "source": [
        "mpl.hist(char_len);\n"
      ],
      "metadata": {
        "colab": {
          "base_uri": "https://localhost:8080/",
          "height": 430
        },
        "id": "EGl5KzE68YAC",
        "outputId": "eb2d1e0a-5976-412b-dae7-751286adae8d"
      },
      "execution_count": null,
      "outputs": [
        {
          "output_type": "display_data",
          "data": {
            "text/plain": [
              "<Figure size 640x480 with 1 Axes>"
            ],
            "image/png": "[encoded data removed]"
          },
          "metadata": {}
        }
      ]
    },
    {
      "cell_type": "code",
      "source": [
        "max_percentile = int(np.percentile(char_len,95))\n",
        "max_percentile"
      ],
      "metadata": {
        "colab": {
          "base_uri": "https://localhost:8080/"
        },
        "id": "NoRKfzh79hsJ",
        "outputId": "d7745ec4-b31c-4eae-82af-5ea439e4d25f"
      },
      "execution_count": null,
      "outputs": [
        {
          "output_type": "execute_result",
          "data": {
            "text/plain": [
              "290"
            ]
          },
          "metadata": {},
          "execution_count": 61
        }
      ]
    },
    {
      "cell_type": "markdown",
      "source": [
        "*now we use our textvector to tokenise this above characters*"
      ],
      "metadata": {
        "id": "mwIKeLPN-1aq"
      }
    },
    {
      "cell_type": "code",
      "source": [
        "import string\n",
        "\n",
        "alphabet = string.ascii_lowercase+string.digits+string.punctuation\n",
        "\n",
        "print(alphabet) , len(alphabet)"
      ],
      "metadata": {
        "colab": {
          "base_uri": "https://localhost:8080/"
        },
        "id": "umF3dEzRANCG",
        "outputId": "c788561a-0b6f-492d-bf41-06d55427589c"
      },
      "execution_count": null,
      "outputs": [
        {
          "output_type": "stream",
          "name": "stdout",
          "text": [
            "abcdefghijklmnopqrstuvwxyz0123456789!\"#$%&'()*+,-./:;<=>?@[\\]^_`{|}~\n"
          ]
        },
        {
          "output_type": "execute_result",
          "data": {
            "text/plain": [
              "(None, 68)"
            ]
          },
          "metadata": {},
          "execution_count": 62
        }
      ]
    },
    {
      "cell_type": "code",
      "source": [
        "character_to_text_vector = TextVectorization(max_tokens=len(alphabet)+2,output_sequence_length=300)"
      ],
      "metadata": {
        "id": "_MCLjDxmAhPB"
      },
      "execution_count": null,
      "outputs": []
    },
    {
      "cell_type": "code",
      "source": [
        "character_to_text_vector.adapt(train_chars)"
      ],
      "metadata": {
        "id": "eN7IXjAYBSN5"
      },
      "execution_count": null,
      "outputs": []
    },
    {
      "cell_type": "code",
      "source": [
        "random_train_chars = random.choice(train_chars)\n",
        "\n",
        "print(f\"text before vector-> {random_train_chars}\\n\")\n",
        "print(f\"text after vector-> {character_to_text_vector(random_train_chars)}\\n\")"
      ],
      "metadata": {
        "colab": {
          "base_uri": "https://localhost:8080/"
        },
        "id": "Os1xt5mGBivM",
        "outputId": "c0f46a32-2c42-4b84-88a6-eb91ef1c1452"
      },
      "execution_count": null,
      "outputs": [
        {
          "output_type": "stream",
          "name": "stdout",
          "text": [
            "text before vector-> t h e   h i g h   c o n c o r d a n c e   ,   s p e c i f i c i t y   ,   a n d   s e n s i t i v i t y   d e m o n s t r a t e   t h a t   e g f r   m u t a t i o n   s t a t u s   c a n   b e   a c c u r a t e l y   a s s e s s e d   u s i n g   c i r c u l a t i n g - f r e e   t u m o r   d n a   .\n",
            "\n",
            "text after vector-> [ 3 13  2 13  4 18 13 11  7  6 11  7  8 10  5  6 11  2  9 14  2 11  4 17\n",
            "  4 11  4  3 19  5  6 10  9  2  6  9  4  3  4 21  4  3 19 10  2 15  7  6\n",
            "  9  3  8  5  3  2  3 13  5  3  2 18 17  8 15 16  3  5  3  4  7  6  9  3\n",
            "  5  3 16  9 11  5  6 22  2  5 11 11 16  8  5  3  2 12 19  5  9  9  2  9\n",
            "  9  2 10 16  9  4  6 18 11  4  8 11 16 12  5  3  4  6 18 17  8  2  2  3\n",
            " 16 15  7  8 10  6  5  0  0  0  0  0  0  0  0  0  0  0  0  0  0  0  0  0\n",
            "  0  0  0  0  0  0  0  0  0  0  0  0  0  0  0  0  0  0  0  0  0  0  0  0\n",
            "  0  0  0  0  0  0  0  0  0  0  0  0  0  0  0  0  0  0  0  0  0  0  0  0\n",
            "  0  0  0  0  0  0  0  0  0  0  0  0  0  0  0  0  0  0  0  0  0  0  0  0\n",
            "  0  0  0  0  0  0  0  0  0  0  0  0  0  0  0  0  0  0  0  0  0  0  0  0\n",
            "  0  0  0  0  0  0  0  0  0  0  0  0  0  0  0  0  0  0  0  0  0  0  0  0\n",
            "  0  0  0  0  0  0  0  0  0  0  0  0  0  0  0  0  0  0  0  0  0  0  0  0\n",
            "  0  0  0  0  0  0  0  0  0  0  0  0]\n",
            "\n"
          ]
        }
      ]
    },
    {
      "cell_type": "code",
      "source": [
        "# get vocal\n",
        "\n",
        "char_vocab =character_to_text_vector.get_vocabulary()"
      ],
      "metadata": {
        "id": "EHRfvN1SFTPS"
      },
      "execution_count": null,
      "outputs": []
    },
    {
      "cell_type": "markdown",
      "source": [
        "*Now we convert our text vector in embeded form*"
      ],
      "metadata": {
        "id": "GxEp-yZqC0sv"
      }
    },
    {
      "cell_type": "code",
      "source": [
        "char_emb = tf.keras.layers.Embedding(input_dim=len(char_vocab),output_dim=30,mask_zero=True)"
      ],
      "metadata": {
        "id": "NGtSPsY1EPK6"
      },
      "execution_count": null,
      "outputs": []
    },
    {
      "cell_type": "code",
      "source": [
        "print(f\"normal characters \\n {random_train_chars}\\n\")\n",
        "\n",
        "print(f\"characters after text vector\\n {character_to_text_vector(random_train_chars)}\\n\")\n",
        "\n",
        "char_emb_display = char_emb(character_to_text_vector([random_train_chars]))\n",
        "\n",
        "print(f\"characters after embedding\\n {char_emb(character_to_text_vector([random_train_chars]))}\")\n",
        "\n",
        "print(f\"shape \\n {char_emb_display.shape}\")"
      ],
      "metadata": {
        "colab": {
          "base_uri": "https://localhost:8080/"
        },
        "id": "gbc287WuGG3u",
        "outputId": "2d384b9f-5294-4110-c52a-0f99a14f4cf7"
      },
      "execution_count": null,
      "outputs": [
        {
          "output_type": "stream",
          "name": "stdout",
          "text": [
            "normal characters \n",
            " t h e   h i g h   c o n c o r d a n c e   ,   s p e c i f i c i t y   ,   a n d   s e n s i t i v i t y   d e m o n s t r a t e   t h a t   e g f r   m u t a t i o n   s t a t u s   c a n   b e   a c c u r a t e l y   a s s e s s e d   u s i n g   c i r c u l a t i n g - f r e e   t u m o r   d n a   .\n",
            "\n",
            "characters after text vector\n",
            " [ 3 13  2 13  4 18 13 11  7  6 11  7  8 10  5  6 11  2  9 14  2 11  4 17\n",
            "  4 11  4  3 19  5  6 10  9  2  6  9  4  3  4 21  4  3 19 10  2 15  7  6\n",
            "  9  3  8  5  3  2  3 13  5  3  2 18 17  8 15 16  3  5  3  4  7  6  9  3\n",
            "  5  3 16  9 11  5  6 22  2  5 11 11 16  8  5  3  2 12 19  5  9  9  2  9\n",
            "  9  2 10 16  9  4  6 18 11  4  8 11 16 12  5  3  4  6 18 17  8  2  2  3\n",
            " 16 15  7  8 10  6  5  0  0  0  0  0  0  0  0  0  0  0  0  0  0  0  0  0\n",
            "  0  0  0  0  0  0  0  0  0  0  0  0  0  0  0  0  0  0  0  0  0  0  0  0\n",
            "  0  0  0  0  0  0  0  0  0  0  0  0  0  0  0  0  0  0  0  0  0  0  0  0\n",
            "  0  0  0  0  0  0  0  0  0  0  0  0  0  0  0  0  0  0  0  0  0  0  0  0\n",
            "  0  0  0  0  0  0  0  0  0  0  0  0  0  0  0  0  0  0  0  0  0  0  0  0\n",
            "  0  0  0  0  0  0  0  0  0  0  0  0  0  0  0  0  0  0  0  0  0  0  0  0\n",
            "  0  0  0  0  0  0  0  0  0  0  0  0  0  0  0  0  0  0  0  0  0  0  0  0\n",
            "  0  0  0  0  0  0  0  0  0  0  0  0]\n",
            "\n",
            "characters after embedding\n",
            " [[[ 0.04766614  0.00691037  0.04127837 ... -0.00579982  0.03274215\n",
            "   -0.02265931]\n",
            "  [ 0.0480499  -0.04597762 -0.00224483 ... -0.02092632 -0.01454262\n",
            "   -0.00175751]\n",
            "  [ 0.02415382 -0.04094436  0.00704707 ... -0.03657981 -0.00652106\n",
            "    0.02487247]\n",
            "  ...\n",
            "  [-0.02338785  0.00991459  0.01649002 ...  0.01951465 -0.01293063\n",
            "    0.03402097]\n",
            "  [-0.02338785  0.00991459  0.01649002 ...  0.01951465 -0.01293063\n",
            "    0.03402097]\n",
            "  [-0.02338785  0.00991459  0.01649002 ...  0.01951465 -0.01293063\n",
            "    0.03402097]]]\n",
            "shape \n",
            " (1, 300, 30)\n"
          ]
        }
      ]
    },
    {
      "cell_type": "markdown",
      "source": [
        "**NOW WE CREATE OUR MODEL 3 WITH CHARACTER EMBEDDING**"
      ],
      "metadata": {
        "id": "eskklKGtHAQG"
      }
    },
    {
      "cell_type": "code",
      "source": [
        "inputs = tf.keras.layers.Input(shape=(1,),dtype=\"string\")\n",
        "\n",
        "text_vector = character_to_text_vector(inputs)\n",
        "\n",
        "character_emb = char_emb(text_vector)\n",
        "\n",
        "x= tf.keras.layers.Conv1D(filters=64,kernel_size=4,padding=\"valid\",activation=\"relu\") (character_emb)\n",
        "\n",
        "x = tf.keras.layers.GlobalMaxPooling1D()(x)\n",
        "\n",
        "outputs = tf.keras.layers.Dense(5,activation=\"softmax\")(x)\n",
        "\n",
        "model_3 = tf.keras.Model(inputs,outputs)"
      ],
      "metadata": {
        "id": "FRd4GWB0IggF"
      },
      "execution_count": null,
      "outputs": []
    },
    {
      "cell_type": "code",
      "source": [
        "model_3.compile(loss=tf.keras.losses.CategoricalCrossentropy(),optimizer=tf.keras.optimizers.Adam(),metrics=\"accuracy\")"
      ],
      "metadata": {
        "id": "eBAsivgWKWYb"
      },
      "execution_count": null,
      "outputs": []
    },
    {
      "cell_type": "code",
      "source": [
        "train_chars_dataset = tf.data.Dataset.from_tensor_slices((train_chars,train_label_encoded)).batch(32).prefetch(tf.data.AUTOTUNE)\n",
        "val_chars_dataset = tf.data.Dataset.from_tensor_slices((val_chars,val_label_encoded)).batch(32).prefetch(tf.data.AUTOTUNE)\n",
        "test_chars_dataset = tf.data.Dataset.from_tensor_slices((test_chars,test_label_encoded)).batch(32).prefetch(tf.data.AUTOTUNE)"
      ],
      "metadata": {
        "id": "vY5QJE1ELAd7"
      },
      "execution_count": null,
      "outputs": []
    },
    {
      "cell_type": "code",
      "source": [
        "history_3 = model_3.fit(train_chars_dataset,epochs=3,steps_per_epoch=int((0.2*len(train_chars_dataset))),validation_data=val_chars_dataset,validation_steps=int(0.2*len(val_chars_dataset)),callbacks=[tbc])"
      ],
      "metadata": {
        "colab": {
          "base_uri": "https://localhost:8080/"
        },
        "id": "9ZKoFHzKLX-D",
        "outputId": "46d84d78-089c-4d6b-d623-bdbb918028a2"
      },
      "execution_count": null,
      "outputs": [
        {
          "output_type": "stream",
          "name": "stdout",
          "text": [
            "Epoch 1/3\n",
            "1125/1125 [==============================] - 10s 7ms/step - loss: 1.1677 - accuracy: 0.5277 - val_loss: 0.9739 - val_accuracy: 0.6233\n",
            "Epoch 2/3\n",
            "1125/1125 [==============================] - 6s 5ms/step - loss: 0.9213 - accuracy: 0.6394 - val_loss: 0.8589 - val_accuracy: 0.6711\n",
            "Epoch 3/3\n",
            "1125/1125 [==============================] - 7s 6ms/step - loss: 0.8674 - accuracy: 0.6635 - val_loss: 0.8235 - val_accuracy: 0.6786\n"
          ]
        }
      ]
    },
    {
      "cell_type": "code",
      "source": [
        "model_3.evaluate(val_chars_dataset)"
      ],
      "metadata": {
        "colab": {
          "base_uri": "https://localhost:8080/"
        },
        "id": "gUGthixCM1lH",
        "outputId": "fc2b70f7-d1b3-47e8-9238-5de5be611bf5"
      },
      "execution_count": null,
      "outputs": [
        {
          "output_type": "stream",
          "name": "stdout",
          "text": [
            "945/945 [==============================] - 3s 4ms/step - loss: 0.8372 - accuracy: 0.6749\n"
          ]
        },
        {
          "output_type": "execute_result",
          "data": {
            "text/plain": [
              "[0.8372312784194946, 0.6748642921447754]"
            ]
          },
          "metadata": {},
          "execution_count": 73
        }
      ]
    },
    {
      "cell_type": "code",
      "source": [
        "model_3_preds = model_3.predict(val_chars_dataset)"
      ],
      "metadata": {
        "colab": {
          "base_uri": "https://localhost:8080/"
        },
        "id": "hrliK0OKNPUh",
        "outputId": "d774a147-e9a5-4f26-f636-1a2ca6ca4142"
      },
      "execution_count": null,
      "outputs": [
        {
          "output_type": "stream",
          "name": "stdout",
          "text": [
            "945/945 [==============================] - 2s 2ms/step\n"
          ]
        }
      ]
    },
    {
      "cell_type": "code",
      "source": [
        "model_3_pred_classes = tf.argmax(model_3_preds,axis=1)\n",
        "model_3_pred_classes"
      ],
      "metadata": {
        "colab": {
          "base_uri": "https://localhost:8080/"
        },
        "id": "AEz3HGSENsle",
        "outputId": "a25350bf-6169-43ca-9f0a-57640b3a6a0f"
      },
      "execution_count": null,
      "outputs": [
        {
          "output_type": "execute_result",
          "data": {
            "text/plain": [
              "<tf.Tensor: shape=(30212,), dtype=int64, numpy=array([3, 3, 3, ..., 4, 2, 1])>"
            ]
          },
          "metadata": {},
          "execution_count": 75
        }
      ]
    },
    {
      "cell_type": "markdown",
      "source": [
        "**NOW WE COMBINE 2 MODELS (EARLIER MODELS) USING CONCATENATION AND CREATE A NEW MODEL 4**"
      ],
      "metadata": {
        "id": "CpzLl3YFNzU5"
      }
    },
    {
      "cell_type": "code",
      "source": [
        "token_inputs = tf.keras.layers.Input(shape=[],dtype=\"string\")\n",
        "\n",
        "token_emb_inputs = hub_model(token_inputs)\n",
        "\n",
        "token_outputs  = tf.keras.layers.Dense(128,activation=\"relu\") (token_emb_inputs)\n",
        "\n",
        "token_model = tf.keras.Model(token_inputs,token_outputs)\n",
        "\n",
        "\n",
        "\n",
        "char_inputs = tf.keras.layers.Input(shape=(1,),dtype=\"string\")\n",
        "\n",
        "char_vector = character_to_text_vector(char_inputs)\n",
        "\n",
        "char_embd =  char_emb(char_vector)\n",
        "\n",
        "char_bi_layer = tf.keras.layers.Bidirectional(tf.keras.layers.LSTM(25))(char_embd)\n",
        "\n",
        "char_model = tf.keras.Model(char_inputs,char_bi_layer)\n",
        "\n",
        "\n",
        "model_concatenate = tf.keras.layers.Concatenate()([token_model.output,char_model.output])\n",
        "\n",
        "\n",
        "\n",
        "dropout = tf.keras.layers.Dropout(0.5)(model_concatenate)\n",
        "\n",
        "dense_layer = tf.keras.layers.Dense(200,activation=\"relu\") (dropout)\n",
        "\n",
        "final_dropout = tf.keras.layers.Dropout(0.5)(dense_layer)\n",
        "\n",
        "final_outputs = tf.keras.layers.Dense(5,activation=\"softmax\") (final_dropout)\n",
        "\n",
        "model_4 = tf.keras.Model(inputs = [token_model.input,char_model.input],outputs = final_outputs)"
      ],
      "metadata": {
        "id": "_95Jl5pvQQsk"
      },
      "execution_count": null,
      "outputs": []
    },
    {
      "cell_type": "code",
      "source": [
        "model_4.summary()"
      ],
      "metadata": {
        "colab": {
          "base_uri": "https://localhost:8080/"
        },
        "id": "XA9aywqVZqTS",
        "outputId": "e3920a4f-7f83-4ab1-95d2-394540355f07"
      },
      "execution_count": null,
      "outputs": [
        {
          "output_type": "stream",
          "name": "stdout",
          "text": [
            "Model: \"model_5\"\n",
            "__________________________________________________________________________________________________\n",
            " Layer (type)                   Output Shape         Param #     Connected to                     \n",
            "==================================================================================================\n",
            " input_5 (InputLayer)           [(None, 1)]          0           []                               \n",
            "                                                                                                  \n",
            " input_4 (InputLayer)           [(None,)]            0           []                               \n",
            "                                                                                                  \n",
            " text_vectorization_1 (TextVect  (None, 300)         0           ['input_5[0][0]']                \n",
            " orization)                                                                                       \n",
            "                                                                                                  \n",
            " keras_layer (KerasLayer)       (None, 512)          256797824   ['input_4[0][0]']                \n",
            "                                                                                                  \n",
            " embedding_1 (Embedding)        (None, 300, 30)      840         ['text_vectorization_1[1][0]']   \n",
            "                                                                                                  \n",
            " dense_4 (Dense)                (None, 128)          65664       ['keras_layer[1][0]']            \n",
            "                                                                                                  \n",
            " bidirectional (Bidirectional)  (None, 50)           11200       ['embedding_1[1][0]']            \n",
            "                                                                                                  \n",
            " concatenate (Concatenate)      (None, 178)          0           ['dense_4[0][0]',                \n",
            "                                                                  'bidirectional[0][0]']          \n",
            "                                                                                                  \n",
            " dropout (Dropout)              (None, 178)          0           ['concatenate[0][0]']            \n",
            "                                                                                                  \n",
            " dense_5 (Dense)                (None, 200)          35800       ['dropout[0][0]']                \n",
            "                                                                                                  \n",
            " dropout_1 (Dropout)            (None, 200)          0           ['dense_5[0][0]']                \n",
            "                                                                                                  \n",
            " dense_6 (Dense)                (None, 5)            1005        ['dropout_1[0][0]']              \n",
            "                                                                                                  \n",
            "==================================================================================================\n",
            "Total params: 256,912,333\n",
            "Trainable params: 114,509\n",
            "Non-trainable params: 256,797,824\n",
            "__________________________________________________________________________________________________\n"
          ]
        }
      ]
    },
    {
      "cell_type": "code",
      "source": [
        "from keras.utils import plot_model"
      ],
      "metadata": {
        "id": "m5QmEJfrjZaJ"
      },
      "execution_count": null,
      "outputs": []
    },
    {
      "cell_type": "code",
      "source": [
        "plot_model(model_4,show_shapes=True)"
      ],
      "metadata": {
        "colab": {
          "base_uri": "https://localhost:8080/",
          "height": 976
        },
        "id": "W5Ggqj-jkAIo",
        "outputId": "15f245b2-8b63-4cd8-a047-371f4b9c0930"
      },
      "execution_count": null,
      "outputs": [
        {
          "output_type": "execute_result",
          "data": {
            "image/png": "[encoded data removed]",
            "text/plain": [
              "<IPython.core.display.Image object>"
            ]
          },
          "metadata": {},
          "execution_count": 79
        }
      ]
    },
    {
      "cell_type": "code",
      "source": [
        "model_4.compile(loss=tf.keras.losses.CategoricalCrossentropy(),optimizer=tf.keras.optimizers.Adam(),metrics=[\"accuracy\"])"
      ],
      "metadata": {
        "id": "bFNBgc85kC3P"
      },
      "execution_count": null,
      "outputs": []
    },
    {
      "cell_type": "code",
      "source": [
        "# now we create datasets\n",
        "# this is train datasets\n",
        "\n",
        "token_train_datasets = tf.data.Dataset.from_tensor_slices((train_sentences,train_chars))\n",
        "token_label_datasets = tf.data.Dataset.from_tensor_slices(train_label_encoded)\n",
        "\n",
        "combine_train_datasets = tf.data.Dataset.zip((token_train_datasets,token_label_datasets))\n",
        "\n",
        "combine_train_datasets = combine_train_datasets.batch(32).prefetch(tf.data.AUTOTUNE)\n"
      ],
      "metadata": {
        "id": "dAWAI0CTm0c2"
      },
      "execution_count": null,
      "outputs": []
    },
    {
      "cell_type": "code",
      "source": [
        "# this is validation datasets\n",
        "\n",
        "token_val_datasets = tf.data.Dataset.from_tensor_slices((val_sentences,val_chars))\n",
        "token_label_datasets = tf.data.Dataset.from_tensor_slices(val_label_encoded)\n",
        "\n",
        "combine_val_datasets = tf.data.Dataset.zip((token_val_datasets,token_label_datasets))\n",
        "\n",
        "combine_val_datasets = combine_val_datasets.batch(32).prefetch(tf.data.AUTOTUNE)"
      ],
      "metadata": {
        "id": "KZKfiWEXq16z"
      },
      "execution_count": null,
      "outputs": []
    },
    {
      "cell_type": "code",
      "source": [
        "# this is for test datasets\n",
        "\n",
        "\n",
        "token_test_datasets = tf.data.Dataset.from_tensor_slices((test_sentences,test_chars))\n",
        "token_label_datasets = tf.data.Dataset.from_tensor_slices(test_label_encoded)\n",
        "\n",
        "combine_test_datasets = tf.data.Dataset.zip((token_test_datasets,token_label_datasets))\n",
        "\n",
        "combine_test_datasets_prefetch = combine_test_datasets.batch(32).prefetch(tf.data.AUTOTUNE)"
      ],
      "metadata": {
        "id": "RtEO3MzUrXuw"
      },
      "execution_count": null,
      "outputs": []
    },
    {
      "cell_type": "code",
      "source": [
        "\n",
        "\n",
        "combine_train_datasets,combine_val_datasets"
      ],
      "metadata": {
        "colab": {
          "base_uri": "https://localhost:8080/"
        },
        "id": "U3xzqPCCtWGh",
        "outputId": "141baf5a-0bcc-452a-fb0f-da1950e590e6"
      },
      "execution_count": null,
      "outputs": [
        {
          "output_type": "execute_result",
          "data": {
            "text/plain": [
              "(<_PrefetchDataset element_spec=((TensorSpec(shape=(None,), dtype=tf.string, name=None), TensorSpec(shape=(None,), dtype=tf.string, name=None)), TensorSpec(shape=(None, 5), dtype=tf.float64, name=None))>,\n",
              " <_PrefetchDataset element_spec=((TensorSpec(shape=(None,), dtype=tf.string, name=None), TensorSpec(shape=(None,), dtype=tf.string, name=None)), TensorSpec(shape=(None, 5), dtype=tf.float64, name=None))>)"
            ]
          },
          "metadata": {},
          "execution_count": 84
        }
      ]
    },
    {
      "cell_type": "code",
      "source": [
        "model_4_history = model_4.fit(combine_train_datasets,\n",
        "                              steps_per_epoch=int(0.1 * len(combine_train_datasets)),\n",
        "                              epochs=3,validation_data=combine_val_datasets,\n",
        "                              validation_steps=int(0.1 * len(combine_val_datasets)))"
      ],
      "metadata": {
        "colab": {
          "base_uri": "https://localhost:8080/"
        },
        "id": "OgoTJR6ktFZP",
        "outputId": "2b778c80-b737-4f27-80bd-246331668d50"
      },
      "execution_count": null,
      "outputs": [
        {
          "output_type": "stream",
          "name": "stdout",
          "text": [
            "Epoch 1/3\n",
            "562/562 [==============================] - 42s 54ms/step - loss: 0.9661 - accuracy: 0.6163 - val_loss: 0.7753 - val_accuracy: 0.7035\n",
            "Epoch 2/3\n",
            "562/562 [==============================] - 28s 50ms/step - loss: 0.7872 - accuracy: 0.6944 - val_loss: 0.7147 - val_accuracy: 0.7320\n",
            "Epoch 3/3\n",
            "562/562 [==============================] - 24s 43ms/step - loss: 0.7689 - accuracy: 0.7066 - val_loss: 0.6934 - val_accuracy: 0.7384\n"
          ]
        }
      ]
    },
    {
      "cell_type": "code",
      "source": [
        "model_4.evaluate(combine_val_datasets)"
      ],
      "metadata": {
        "colab": {
          "base_uri": "https://localhost:8080/"
        },
        "id": "UohPdBG0AuYU",
        "outputId": "34305c1a-52fc-4b8c-ab3f-c2eb4480418d"
      },
      "execution_count": null,
      "outputs": [
        {
          "output_type": "stream",
          "name": "stdout",
          "text": [
            "945/945 [==============================] - 21s 22ms/step - loss: 0.6986 - accuracy: 0.7344\n"
          ]
        },
        {
          "output_type": "execute_result",
          "data": {
            "text/plain": [
              "[0.698610246181488, 0.7344432473182678]"
            ]
          },
          "metadata": {},
          "execution_count": 86
        }
      ]
    },
    {
      "cell_type": "code",
      "source": [
        "model_4_preds = model_4.predict(combine_val_datasets)"
      ],
      "metadata": {
        "colab": {
          "base_uri": "https://localhost:8080/"
        },
        "id": "KNr6tax7H6XV",
        "outputId": "c71e13f6-7909-486e-f8df-37a21ab46960"
      },
      "execution_count": null,
      "outputs": [
        {
          "output_type": "stream",
          "name": "stdout",
          "text": [
            "945/945 [==============================] - 21s 20ms/step\n"
          ]
        }
      ]
    },
    {
      "cell_type": "code",
      "source": [
        "model_4_pred_classes = tf.argmax(model_4_preds,axis=1)\n",
        "model_4_pred_classes"
      ],
      "metadata": {
        "colab": {
          "base_uri": "https://localhost:8080/"
        },
        "id": "fesk1evEJiMa",
        "outputId": "1f23a71c-d448-4c44-e5ce-2086b63e2aa0"
      },
      "execution_count": null,
      "outputs": [
        {
          "output_type": "execute_result",
          "data": {
            "text/plain": [
              "<tf.Tensor: shape=(30212,), dtype=int64, numpy=array([0, 1, 3, ..., 4, 4, 1])>"
            ]
          },
          "metadata": {},
          "execution_count": 88
        }
      ]
    },
    {
      "cell_type": "code",
      "source": [
        "!nvidia-smi"
      ],
      "metadata": {
        "colab": {
          "base_uri": "https://localhost:8080/"
        },
        "id": "805P49ATJtHF",
        "outputId": "32368b9c-8d38-4f75-bc59-86d5b86ee0cc"
      },
      "execution_count": null,
      "outputs": [
        {
          "output_type": "stream",
          "name": "stdout",
          "text": [
            "Sun Jul 23 05:40:45 2023       \n",
            "+-----------------------------------------------------------------------------+\n",
            "| NVIDIA-SMI 525.105.17   Driver Version: 525.105.17   CUDA Version: 12.0     |\n",
            "|-------------------------------+----------------------+----------------------+\n",
            "| GPU  Name        Persistence-M| Bus-Id        Disp.A | Volatile Uncorr. ECC |\n",
            "| Fan  Temp  Perf  Pwr:Usage/Cap|         Memory-Usage | GPU-Util  Compute M. |\n",
            "|                               |                      |               MIG M. |\n",
            "|===============================+======================+======================|\n",
            "|   0  Tesla T4            Off  | 00000000:00:04.0 Off |                    0 |\n",
            "| N/A   75C    P0    34W /  70W |   3319MiB / 15360MiB |      0%      Default |\n",
            "|                               |                      |                  N/A |\n",
            "+-------------------------------+----------------------+----------------------+\n",
            "                                                                               \n",
            "+-----------------------------------------------------------------------------+\n",
            "| Processes:                                                                  |\n",
            "|  GPU   GI   CI        PID   Type   Process name                  GPU Memory |\n",
            "|        ID   ID                                                   Usage      |\n",
            "|=============================================================================|\n",
            "+-----------------------------------------------------------------------------+\n"
          ]
        }
      ]
    },
    {
      "cell_type": "code",
      "source": [
        "train_df.head(10)"
      ],
      "metadata": {
        "id": "GNDGBCs8JySA",
        "colab": {
          "base_uri": "https://localhost:8080/",
          "height": 363
        },
        "outputId": "bef5e6eb-8571-44ad-8a6b-37a0df4b2e69"
      },
      "execution_count": null,
      "outputs": [
        {
          "output_type": "execute_result",
          "data": {
            "text/plain": [
              "      target                                               text  number  \\\n",
              "0  OBJECTIVE  to investigate the efficacy of @ weeks of dail...       0   \n",
              "1    METHODS  a total of @ patients with primary knee oa wer...       1   \n",
              "2    METHODS  outcome measures included pain reduction and i...       2   \n",
              "3    METHODS  pain was assessed using the visual analog pain...       3   \n",
              "4    METHODS  secondary outcome measures included the wester...       4   \n",
              "5    METHODS  serum levels of interleukin @ ( il-@ ) , il-@ ...       5   \n",
              "6    RESULTS  there was a clinically relevant reduction in t...       6   \n",
              "7    RESULTS  the mean difference between treatment arms ( @...       7   \n",
              "8    RESULTS  further , there was a clinically relevant redu...       8   \n",
              "9    RESULTS  these differences remained significant at @ we...       9   \n",
              "\n",
              "   total_num_lines  \n",
              "0               12  \n",
              "1               12  \n",
              "2               12  \n",
              "3               12  \n",
              "4               12  \n",
              "5               12  \n",
              "6               12  \n",
              "7               12  \n",
              "8               12  \n",
              "9               12  "
            ],
            "text/html": [
              "\n",
              "\n",
              "  <div id=\"df-7b5f5e62-d6ff-49f8-b787-46f24c8c8a44\">\n",
              "    <div class=\"colab-df-container\">\n",
              "      <div>\n",
              "<style scoped>\n",
              "    .dataframe tbody tr th:only-of-type {\n",
              "        vertical-align: middle;\n",
              "    }\n",
              "\n",
              "    .dataframe tbody tr th {\n",
              "        vertical-align: top;\n",
              "    }\n",
              "\n",
              "    .dataframe thead th {\n",
              "        text-align: right;\n",
              "    }\n",
              "</style>\n",
              "<table border=\"1\" class=\"dataframe\">\n",
              "  <thead>\n",
              "    <tr style=\"text-align: right;\">\n",
              "      <th></th>\n",
              "      <th>target</th>\n",
              "      <th>text</th>\n",
              "      <th>number</th>\n",
              "      <th>total_num_lines</th>\n",
              "    </tr>\n",
              "  </thead>\n",
              "  <tbody>\n",
              "    <tr>\n",
              "      <th>0</th>\n",
              "      <td>OBJECTIVE</td>\n",
              "      <td>to investigate the efficacy of @ weeks of dail...</td>\n",
              "      <td>0</td>\n",
              "      <td>12</td>\n",
              "    </tr>\n",
              "    <tr>\n",
              "      <th>1</th>\n",
              "      <td>METHODS</td>\n",
              "      <td>a total of @ patients with primary knee oa wer...</td>\n",
              "      <td>1</td>\n",
              "      <td>12</td>\n",
              "    </tr>\n",
              "    <tr>\n",
              "      <th>2</th>\n",
              "      <td>METHODS</td>\n",
              "      <td>outcome measures included pain reduction and i...</td>\n",
              "      <td>2</td>\n",
              "      <td>12</td>\n",
              "    </tr>\n",
              "    <tr>\n",
              "      <th>3</th>\n",
              "      <td>METHODS</td>\n",
              "      <td>pain was assessed using the visual analog pain...</td>\n",
              "      <td>3</td>\n",
              "      <td>12</td>\n",
              "    </tr>\n",
              "    <tr>\n",
              "      <th>4</th>\n",
              "      <td>METHODS</td>\n",
              "      <td>secondary outcome measures included the wester...</td>\n",
              "      <td>4</td>\n",
              "      <td>12</td>\n",
              "    </tr>\n",
              "    <tr>\n",
              "      <th>5</th>\n",
              "      <td>METHODS</td>\n",
              "      <td>serum levels of interleukin @ ( il-@ ) , il-@ ...</td>\n",
              "      <td>5</td>\n",
              "      <td>12</td>\n",
              "    </tr>\n",
              "    <tr>\n",
              "      <th>6</th>\n",
              "      <td>RESULTS</td>\n",
              "      <td>there was a clinically relevant reduction in t...</td>\n",
              "      <td>6</td>\n",
              "      <td>12</td>\n",
              "    </tr>\n",
              "    <tr>\n",
              "      <th>7</th>\n",
              "      <td>RESULTS</td>\n",
              "      <td>the mean difference between treatment arms ( @...</td>\n",
              "      <td>7</td>\n",
              "      <td>12</td>\n",
              "    </tr>\n",
              "    <tr>\n",
              "      <th>8</th>\n",
              "      <td>RESULTS</td>\n",
              "      <td>further , there was a clinically relevant redu...</td>\n",
              "      <td>8</td>\n",
              "      <td>12</td>\n",
              "    </tr>\n",
              "    <tr>\n",
              "      <th>9</th>\n",
              "      <td>RESULTS</td>\n",
              "      <td>these differences remained significant at @ we...</td>\n",
              "      <td>9</td>\n",
              "      <td>12</td>\n",
              "    </tr>\n",
              "  </tbody>\n",
              "</table>\n",
              "</div>\n",
              "      <button class=\"colab-df-convert\" onclick=\"convertToInteractive('df-7b5f5e62-d6ff-49f8-b787-46f24c8c8a44')\"\n",
              "              title=\"Convert this dataframe to an interactive table.\"\n",
              "              style=\"display:none;\">\n",
              "\n",
              "  <svg xmlns=\"http://www.w3.org/2000/svg\" height=\"24px\"viewBox=\"0 0 24 24\"\n",
              "       width=\"24px\">\n",
              "    <path d=\"M0 0h24v24H0V0z\" fill=\"none\"/>\n",
              "    <path d=\"M18.56 5.44l.94 2.06.94-2.06 2.06-.94-2.06-.94-.94-2.06-.94 2.06-2.06.94zm-11 1L8.5 8.5l.94-2.06 2.06-.94-2.06-.94L8.5 2.5l-.94 2.06-2.06.94zm10 10l.94 2.06.94-2.06 2.06-.94-2.06-.94-.94-2.06-.94 2.06-2.06.94z\"/><path d=\"M17.41 7.96l-1.37-1.37c-.4-.4-.92-.59-1.43-.59-.52 0-1.04.2-1.43.59L10.3 9.45l-7.72 7.72c-.78.78-.78 2.05 0 2.83L4 21.41c.39.39.9.59 1.41.59.51 0 1.02-.2 1.41-.59l7.78-7.78 2.81-2.81c.8-.78.8-2.07 0-2.86zM5.41 20L4 18.59l7.72-7.72 1.47 1.35L5.41 20z\"/>\n",
              "  </svg>\n",
              "      </button>\n",
              "\n",
              "\n",
              "\n",
              "    <div id=\"df-70fe1170-c9d8-4af1-8c42-48676683b3cd\">\n",
              "      <button class=\"colab-df-quickchart\" onclick=\"quickchart('df-70fe1170-c9d8-4af1-8c42-48676683b3cd')\"\n",
              "              title=\"Suggest charts.\"\n",
              "              style=\"display:none;\">\n",
              "\n",
              "<svg xmlns=\"http://www.w3.org/2000/svg\" height=\"24px\"viewBox=\"0 0 24 24\"\n",
              "     width=\"24px\">\n",
              "    <g>\n",
              "        <path d=\"M19 3H5c-1.1 0-2 .9-2 2v14c0 1.1.9 2 2 2h14c1.1 0 2-.9 2-2V5c0-1.1-.9-2-2-2zM9 17H7v-7h2v7zm4 0h-2V7h2v10zm4 0h-2v-4h2v4z\"/>\n",
              "    </g>\n",
              "</svg>\n",
              "      </button>\n",
              "    </div>\n",
              "\n",
              "<style>\n",
              "  .colab-df-quickchart {\n",
              "    background-color: #E8F0FE;\n",
              "    border: none;\n",
              "    border-radius: 50%;\n",
              "    cursor: pointer;\n",
              "    display: none;\n",
              "    fill: #1967D2;\n",
              "    height: 32px;\n",
              "    padding: 0 0 0 0;\n",
              "    width: 32px;\n",
              "  }\n",
              "\n",
              "  .colab-df-quickchart:hover {\n",
              "    background-color: #E2EBFA;\n",
              "    box-shadow: 0px 1px 2px rgba(60, 64, 67, 0.3), 0px 1px 3px 1px rgba(60, 64, 67, 0.15);\n",
              "    fill: #174EA6;\n",
              "  }\n",
              "\n",
              "  [theme=dark] .colab-df-quickchart {\n",
              "    background-color: #3B4455;\n",
              "    fill: #D2E3FC;\n",
              "  }\n",
              "\n",
              "  [theme=dark] .colab-df-quickchart:hover {\n",
              "    background-color: #434B5C;\n",
              "    box-shadow: 0px 1px 3px 1px rgba(0, 0, 0, 0.15);\n",
              "    filter: drop-shadow(0px 1px 2px rgba(0, 0, 0, 0.3));\n",
              "    fill: #FFFFFF;\n",
              "  }\n",
              "</style>\n",
              "\n",
              "    <script>\n",
              "      async function quickchart(key) {\n",
              "        const containerElement = document.querySelector('#' + key);\n",
              "        const charts = await google.colab.kernel.invokeFunction(\n",
              "            'suggestCharts', [key], {});\n",
              "      }\n",
              "    </script>\n",
              "\n",
              "      <script>\n",
              "\n",
              "function displayQuickchartButton(domScope) {\n",
              "  let quickchartButtonEl =\n",
              "    domScope.querySelector('#df-70fe1170-c9d8-4af1-8c42-48676683b3cd button.colab-df-quickchart');\n",
              "  quickchartButtonEl.style.display =\n",
              "    google.colab.kernel.accessAllowed ? 'block' : 'none';\n",
              "}\n",
              "\n",
              "        displayQuickchartButton(document);\n",
              "      </script>\n",
              "      <style>\n",
              "    .colab-df-container {\n",
              "      display:flex;\n",
              "      flex-wrap:wrap;\n",
              "      gap: 12px;\n",
              "    }\n",
              "\n",
              "    .colab-df-convert {\n",
              "      background-color: #E8F0FE;\n",
              "      border: none;\n",
              "      border-radius: 50%;\n",
              "      cursor: pointer;\n",
              "      display: none;\n",
              "      fill: #1967D2;\n",
              "      height: 32px;\n",
              "      padding: 0 0 0 0;\n",
              "      width: 32px;\n",
              "    }\n",
              "\n",
              "    .colab-df-convert:hover {\n",
              "      background-color: #E2EBFA;\n",
              "      box-shadow: 0px 1px 2px rgba(60, 64, 67, 0.3), 0px 1px 3px 1px rgba(60, 64, 67, 0.15);\n",
              "      fill: #174EA6;\n",
              "    }\n",
              "\n",
              "    [theme=dark] .colab-df-convert {\n",
              "      background-color: #3B4455;\n",
              "      fill: #D2E3FC;\n",
              "    }\n",
              "\n",
              "    [theme=dark] .colab-df-convert:hover {\n",
              "      background-color: #434B5C;\n",
              "      box-shadow: 0px 1px 3px 1px rgba(0, 0, 0, 0.15);\n",
              "      filter: drop-shadow(0px 1px 2px rgba(0, 0, 0, 0.3));\n",
              "      fill: #FFFFFF;\n",
              "    }\n",
              "  </style>\n",
              "\n",
              "      <script>\n",
              "        const buttonEl =\n",
              "          document.querySelector('#df-7b5f5e62-d6ff-49f8-b787-46f24c8c8a44 button.colab-df-convert');\n",
              "        buttonEl.style.display =\n",
              "          google.colab.kernel.accessAllowed ? 'block' : 'none';\n",
              "\n",
              "        async function convertToInteractive(key) {\n",
              "          const element = document.querySelector('#df-7b5f5e62-d6ff-49f8-b787-46f24c8c8a44');\n",
              "          const dataTable =\n",
              "            await google.colab.kernel.invokeFunction('convertToInteractive',\n",
              "                                                     [key], {});\n",
              "          if (!dataTable) return;\n",
              "\n",
              "          const docLinkHtml = 'Like what you see? Visit the ' +\n",
              "            '<a target=\"_blank\" href=https://colab.research.google.com/notebooks/data_table.ipynb>data table notebook</a>'\n",
              "            + ' to learn more about interactive tables.';\n",
              "          element.innerHTML = '';\n",
              "          dataTable['output_type'] = 'display_data';\n",
              "          await google.colab.output.renderOutput(dataTable, element);\n",
              "          const docLink = document.createElement('div');\n",
              "          docLink.innerHTML = docLinkHtml;\n",
              "          element.appendChild(docLink);\n",
              "        }\n",
              "      </script>\n",
              "    </div>\n",
              "  </div>\n"
            ]
          },
          "metadata": {},
          "execution_count": 90
        }
      ]
    },
    {
      "cell_type": "code",
      "source": [
        "train_df.number.value_counts()"
      ],
      "metadata": {
        "colab": {
          "base_uri": "https://localhost:8080/"
        },
        "id": "qt6uYLXUyDym",
        "outputId": "07d5182d-a1bb-47e5-b500-581b8c291367"
      },
      "execution_count": null,
      "outputs": [
        {
          "output_type": "execute_result",
          "data": {
            "text/plain": [
              "0     15000\n",
              "1     15000\n",
              "2     15000\n",
              "3     15000\n",
              "4     14992\n",
              "5     14949\n",
              "6     14758\n",
              "7     14279\n",
              "8     13346\n",
              "9     11981\n",
              "10    10041\n",
              "11     7892\n",
              "12     5853\n",
              "13     4152\n",
              "14     2835\n",
              "15     1861\n",
              "16     1188\n",
              "17      751\n",
              "18      462\n",
              "19      286\n",
              "20      162\n",
              "21      101\n",
              "22       66\n",
              "23       33\n",
              "24       22\n",
              "25       14\n",
              "26        7\n",
              "27        4\n",
              "28        3\n",
              "29        1\n",
              "30        1\n",
              "Name: number, dtype: int64"
            ]
          },
          "metadata": {},
          "execution_count": 91
        }
      ]
    },
    {
      "cell_type": "code",
      "source": [
        "train_df.number.plot.hist()"
      ],
      "metadata": {
        "colab": {
          "base_uri": "https://localhost:8080/",
          "height": 447
        },
        "id": "ERK0Ts3xyMyd",
        "outputId": "1dd81bff-68e5-4d99-ab59-4e27d88603df"
      },
      "execution_count": null,
      "outputs": [
        {
          "output_type": "execute_result",
          "data": {
            "text/plain": [
              "<Axes: ylabel='Frequency'>"
            ]
          },
          "metadata": {},
          "execution_count": 92
        },
        {
          "output_type": "display_data",
          "data": {
            "text/plain": [
              "<Figure size 640x480 with 1 Axes>"
            ],
            "image/png": "[encoded data removed]"
          },
          "metadata": {}
        }
      ]
    },
    {
      "cell_type": "code",
      "source": [
        "train_line_number_encoded = tf.one_hot(train_df[\"number\"].to_numpy(),depth=13)\n",
        "test_line_number_encoded = tf.one_hot(test_df[\"number\"].to_numpy(),depth=13)\n",
        "val_line_number_encoded = tf.one_hot(val_df[\"number\"].to_numpy(),depth=13)\n",
        "\n",
        "train_line_number_encoded.shape"
      ],
      "metadata": {
        "colab": {
          "base_uri": "https://localhost:8080/"
        },
        "id": "N9qZcvIHyYNT",
        "outputId": "0ab8ba3e-fd54-43a9-b36f-3d3a43983f91"
      },
      "execution_count": null,
      "outputs": [
        {
          "output_type": "execute_result",
          "data": {
            "text/plain": [
              "TensorShape([180040, 13])"
            ]
          },
          "metadata": {},
          "execution_count": 93
        }
      ]
    },
    {
      "cell_type": "code",
      "source": [
        "np.percentile(train_df[\"number\"],95)"
      ],
      "metadata": {
        "colab": {
          "base_uri": "https://localhost:8080/"
        },
        "id": "7nbthAUJ0cRJ",
        "outputId": "c7463b33-f80d-42f6-aa7e-fe9c0ae0474c"
      },
      "execution_count": null,
      "outputs": [
        {
          "output_type": "execute_result",
          "data": {
            "text/plain": [
              "13.0"
            ]
          },
          "metadata": {},
          "execution_count": 94
        }
      ]
    },
    {
      "cell_type": "code",
      "source": [
        "train_df.total_num_lines.value_counts()"
      ],
      "metadata": {
        "colab": {
          "base_uri": "https://localhost:8080/"
        },
        "id": "Z3iHEN_Y2fud",
        "outputId": "e1afa58a-50df-486b-95d3-383862e7b0cd"
      },
      "execution_count": null,
      "outputs": [
        {
          "output_type": "execute_result",
          "data": {
            "text/plain": [
              "12    24468\n",
              "11    23639\n",
              "13    22113\n",
              "10    19400\n",
              "14    18438\n",
              "15    14610\n",
              "9     12285\n",
              "16    10768\n",
              "8      7464\n",
              "17     7429\n",
              "18     5202\n",
              "7      3353\n",
              "19     3344\n",
              "20     2480\n",
              "21     1281\n",
              "6      1146\n",
              "22      770\n",
              "23      759\n",
              "24      264\n",
              "5       215\n",
              "25      200\n",
              "26      182\n",
              "27       81\n",
              "29       58\n",
              "4        32\n",
              "31       31\n",
              "28       28\n",
              "Name: total_num_lines, dtype: int64"
            ]
          },
          "metadata": {},
          "execution_count": 95
        }
      ]
    },
    {
      "cell_type": "code",
      "source": [
        "np.percentile(train_df.total_num_lines,95)"
      ],
      "metadata": {
        "colab": {
          "base_uri": "https://localhost:8080/"
        },
        "id": "lgvJdyhk3MT5",
        "outputId": "601a62f1-d833-465d-9a88-81141a7876b7"
      },
      "execution_count": null,
      "outputs": [
        {
          "output_type": "execute_result",
          "data": {
            "text/plain": [
              "19.0"
            ]
          },
          "metadata": {},
          "execution_count": 96
        }
      ]
    },
    {
      "cell_type": "code",
      "source": [
        "train_df.total_num_lines.plot.hist()"
      ],
      "metadata": {
        "colab": {
          "base_uri": "https://localhost:8080/",
          "height": 448
        },
        "id": "wKd2wLy83b9V",
        "outputId": "a4d6e32d-8041-43bf-8bd5-1bc7b700228b"
      },
      "execution_count": null,
      "outputs": [
        {
          "output_type": "execute_result",
          "data": {
            "text/plain": [
              "<Axes: ylabel='Frequency'>"
            ]
          },
          "metadata": {},
          "execution_count": 97
        },
        {
          "output_type": "display_data",
          "data": {
            "text/plain": [
              "<Figure size 640x480 with 1 Axes>"
            ],
            "image/png": "[encoded data removed]"
          },
          "metadata": {}
        }
      ]
    },
    {
      "cell_type": "code",
      "source": [
        "train_total_line_encoded = tf.one_hot(train_df.total_num_lines.to_numpy(),19)\n",
        "val_total_line_encoded = tf.one_hot(val_df.total_num_lines.to_numpy(),19)\n",
        "test_total_line_encoded = tf.one_hot(test_df.total_num_lines.to_numpy(),19)\n",
        "\n",
        "train_total_line_encoded.shape"
      ],
      "metadata": {
        "colab": {
          "base_uri": "https://localhost:8080/"
        },
        "id": "ntl4dUWu3jBp",
        "outputId": "9b21f0d1-4bdb-47d2-c73e-a2f65dba36a0"
      },
      "execution_count": null,
      "outputs": [
        {
          "output_type": "execute_result",
          "data": {
            "text/plain": [
              "TensorShape([180040, 19])"
            ]
          },
          "metadata": {},
          "execution_count": 98
        }
      ]
    },
    {
      "cell_type": "markdown",
      "source": [
        "**NOW WE START BUILDING TRI EMBEDED MODEL**"
      ],
      "metadata": {
        "id": "QgaIfy9337wi"
      }
    },
    {
      "cell_type": "code",
      "source": [
        "token_inputs = tf.keras.Input(shape=[],dtype=tf.string)\n",
        "\n",
        "token_emb = hub_model(token_inputs)\n",
        "\n",
        "token_outputs  = tf.keras.layers.Dense(128,activation=\"relu\")(token_emb)\n",
        "\n",
        "token_model = tf.keras.Model(token_inputs,token_outputs)\n",
        "\n",
        "\n",
        "\n",
        "char_inputs = tf.keras.layers.Input(shape=(1,),dtype=tf.string)\n",
        "\n",
        "char_token = character_to_text_vector(char_inputs)\n",
        "\n",
        "char_emb = emb_layer(char_token)\n",
        "\n",
        "char_bi_lstm = tf.keras.layers.Bidirectional(tf.keras.layers.LSTM(32)) (char_emb)\n",
        "\n",
        "char_model = tf.keras.Model(char_inputs,char_bi_lstm)\n",
        "\n",
        "\n",
        "\n",
        "line_input = tf.keras.layers.Input(shape=(13,),dtype=tf.float32)\n",
        "\n",
        "line_output = tf.keras.layers.Dense(32,activation=\"relu\")(line_input)\n",
        "\n",
        "line_model = tf.keras.Model(line_input,line_output)\n",
        "\n",
        "\n",
        "total_line_input = tf.keras.layers.Input(shape=(19,),dtype=tf.float32)\n",
        "\n",
        "total_line_output = tf.keras.layers.Dense(32,activation=\"relu\")(total_line_input)\n",
        "\n",
        "total_line_model = tf.keras.Model(total_line_input,total_line_output)\n",
        "\n",
        "\n",
        "\n",
        "combine_embeded_model = tf.keras.layers.Concatenate()([token_model.output,char_model.output])\n",
        "\n",
        "layer_1 = tf.keras.layers.Dense(256,activation=\"relu\") (combine_embeded_model )\n",
        "\n",
        "dropout_layer = tf.keras.layers.Dropout(0.5)(layer_1)\n",
        "\n",
        "combined_tri_model = tf.keras.layers.Concatenate()([line_model.output,total_line_model.output,dropout_layer])\n",
        "\n",
        "\n",
        "final_output_layer = tf.keras.layers.Dense(5,activation=\"softmax\")(combined_tri_model)\n",
        "\n",
        "model_5 = tf.keras.Model([token_model.input,char_model.input,line_model.input,total_line_model.input],final_output_layer)"
      ],
      "metadata": {
        "id": "FEfmvOf86UVy"
      },
      "execution_count": null,
      "outputs": []
    },
    {
      "cell_type": "code",
      "source": [
        "model_5.summary()"
      ],
      "metadata": {
        "colab": {
          "base_uri": "https://localhost:8080/"
        },
        "id": "U35KGVlF8kTh",
        "outputId": "b2af8a30-04eb-4c2e-b55c-6090b1b19e29"
      },
      "execution_count": null,
      "outputs": [
        {
          "output_type": "stream",
          "name": "stdout",
          "text": [
            "Model: \"model_10\"\n",
            "__________________________________________________________________________________________________\n",
            " Layer (type)                   Output Shape         Param #     Connected to                     \n",
            "==================================================================================================\n",
            " input_7 (InputLayer)           [(None, 1)]          0           []                               \n",
            "                                                                                                  \n",
            " input_6 (InputLayer)           [(None,)]            0           []                               \n",
            "                                                                                                  \n",
            " text_vectorization_1 (TextVect  (None, 300)         0           ['input_7[0][0]']                \n",
            " orization)                                                                                       \n",
            "                                                                                                  \n",
            " keras_layer (KerasLayer)       (None, 512)          256797824   ['input_6[0][0]']                \n",
            "                                                                                                  \n",
            " embedding (Embedding)          multiple             8704000     ['text_vectorization_1[2][0]']   \n",
            "                                                                                                  \n",
            " dense_7 (Dense)                (None, 128)          65664       ['keras_layer[2][0]']            \n",
            "                                                                                                  \n",
            " bidirectional_1 (Bidirectional  (None, 64)          41216       ['embedding[1][0]']              \n",
            " )                                                                                                \n",
            "                                                                                                  \n",
            " concatenate_1 (Concatenate)    (None, 192)          0           ['dense_7[0][0]',                \n",
            "                                                                  'bidirectional_1[0][0]']        \n",
            "                                                                                                  \n",
            " input_8 (InputLayer)           [(None, 13)]         0           []                               \n",
            "                                                                                                  \n",
            " input_9 (InputLayer)           [(None, 19)]         0           []                               \n",
            "                                                                                                  \n",
            " dense_10 (Dense)               (None, 256)          49408       ['concatenate_1[0][0]']          \n",
            "                                                                                                  \n",
            " dense_8 (Dense)                (None, 32)           448         ['input_8[0][0]']                \n",
            "                                                                                                  \n",
            " dense_9 (Dense)                (None, 32)           640         ['input_9[0][0]']                \n",
            "                                                                                                  \n",
            " dropout_2 (Dropout)            (None, 256)          0           ['dense_10[0][0]']               \n",
            "                                                                                                  \n",
            " concatenate_2 (Concatenate)    (None, 320)          0           ['dense_8[0][0]',                \n",
            "                                                                  'dense_9[0][0]',                \n",
            "                                                                  'dropout_2[0][0]']              \n",
            "                                                                                                  \n",
            " dense_11 (Dense)               (None, 5)            1605        ['concatenate_2[0][0]']          \n",
            "                                                                                                  \n",
            "==================================================================================================\n",
            "Total params: 265,660,805\n",
            "Trainable params: 8,862,981\n",
            "Non-trainable params: 256,797,824\n",
            "__________________________________________________________________________________________________\n"
          ]
        }
      ]
    },
    {
      "cell_type": "code",
      "source": [
        "from keras.utils import plot_model\n",
        "plot_model(model_5,show_shapes=True)"
      ],
      "metadata": {
        "colab": {
          "base_uri": "https://localhost:8080/",
          "height": 976
        },
        "id": "16bdRkG5FBz5",
        "outputId": "c27669cd-52a2-4b36-9091-e455fbaf201c"
      },
      "execution_count": null,
      "outputs": [
        {
          "output_type": "execute_result",
          "data": {
            "image/png": "[encoded data removed]",
            "text/plain": [
              "<IPython.core.display.Image object>"
            ]
          },
          "metadata": {},
          "execution_count": 101
        }
      ]
    },
    {
      "cell_type": "code",
      "source": [
        "model_5.compile(loss = tf.keras.losses.CategoricalCrossentropy(label_smoothing=0.2),optimizer=tf.keras.optimizers.SGD(),metrics=[\"accuracy\"])"
      ],
      "metadata": {
        "id": "GTXyq_QuFRPa"
      },
      "execution_count": null,
      "outputs": []
    },
    {
      "cell_type": "markdown",
      "source": [
        "*NOW WE CREATE DATASET FOR OUR TRI MODEL5*"
      ],
      "metadata": {
        "id": "J7dmHvvlM4-6"
      }
    },
    {
      "cell_type": "code",
      "source": [
        "train_model_5_data = tf.data.Dataset.from_tensor_slices((train_sentences,train_chars,train_line_number_encoded,train_total_line_encoded))\n",
        "\n",
        "train_model_5_label = tf.data.Dataset.from_tensor_slices(train_label_encoded)\n",
        "\n",
        "train_model_5_dataset = tf.data.Dataset.zip((train_model_5_data,train_model_5_label))\n",
        "\n",
        "train_model_5_prefetch = train_model_5_dataset.batch(32).prefetch(tf.data.AUTOTUNE)"
      ],
      "metadata": {
        "id": "27WqyZdOQoOv"
      },
      "execution_count": null,
      "outputs": []
    },
    {
      "cell_type": "code",
      "source": [
        "val_model_5_data = tf.data.Dataset.from_tensor_slices((val_sentences,val_chars,val_line_number_encoded,val_total_line_encoded))\n",
        "\n",
        "val_model_5_label = tf.data.Dataset.from_tensor_slices(val_label_encoded)\n",
        "\n",
        "val_model_5_dataset = tf.data.Dataset.zip((val_model_5_data,val_model_5_label))\n",
        "\n",
        "val_model_5_prefetch = val_model_5_dataset.batch(32).prefetch(tf.data.AUTOTUNE)"
      ],
      "metadata": {
        "id": "VADBc6KpSfCK"
      },
      "execution_count": null,
      "outputs": []
    },
    {
      "cell_type": "code",
      "source": [
        "train_model_5_prefetch ,val_model_5_prefetch"
      ],
      "metadata": {
        "colab": {
          "base_uri": "https://localhost:8080/"
        },
        "id": "YQkczn1gWslN",
        "outputId": "e650f106-d807-40ba-c3d7-9a0bb58ddcff"
      },
      "execution_count": null,
      "outputs": [
        {
          "output_type": "execute_result",
          "data": {
            "text/plain": [
              "(<_PrefetchDataset element_spec=((TensorSpec(shape=(None,), dtype=tf.string, name=None), TensorSpec(shape=(None,), dtype=tf.string, name=None), TensorSpec(shape=(None, 13), dtype=tf.float32, name=None), TensorSpec(shape=(None, 19), dtype=tf.float32, name=None)), TensorSpec(shape=(None, 5), dtype=tf.float64, name=None))>,\n",
              " <_PrefetchDataset element_spec=((TensorSpec(shape=(None,), dtype=tf.string, name=None), TensorSpec(shape=(None,), dtype=tf.string, name=None), TensorSpec(shape=(None, 13), dtype=tf.float32, name=None), TensorSpec(shape=(None, 19), dtype=tf.float32, name=None)), TensorSpec(shape=(None, 5), dtype=tf.float64, name=None))>)"
            ]
          },
          "metadata": {},
          "execution_count": 105
        }
      ]
    },
    {
      "cell_type": "code",
      "source": [
        "history_5 = model_5.fit(train_model_5_prefetch,\n",
        "                        epochs=5,\n",
        "                        steps_per_epoch=int(0.1*len(train_model_5_prefetch)),\n",
        "                        validation_data=val_model_5_prefetch,\n",
        "                        validation_steps=int(0.1*len(val_model_5_prefetch)),\n",
        "                        callbacks=[tbc])"
      ],
      "metadata": {
        "colab": {
          "base_uri": "https://localhost:8080/"
        },
        "id": "996wfFIZXuLT",
        "outputId": "d9638638-c4d6-4f76-8cda-805ee2163495"
      },
      "execution_count": null,
      "outputs": [
        {
          "output_type": "stream",
          "name": "stdout",
          "text": [
            "Epoch 1/5\n",
            "562/562 [==============================] - 40s 55ms/step - loss: 1.5246 - accuracy: 0.3697 - val_loss: 1.4838 - val_accuracy: 0.4461\n",
            "Epoch 2/5\n",
            "562/562 [==============================] - 28s 51ms/step - loss: 1.4583 - accuracy: 0.4706 - val_loss: 1.4303 - val_accuracy: 0.5110\n",
            "Epoch 3/5\n",
            "562/562 [==============================] - 26s 47ms/step - loss: 1.4022 - accuracy: 0.5076 - val_loss: 1.3660 - val_accuracy: 0.5283\n",
            "Epoch 4/5\n",
            "562/562 [==============================] - 29s 52ms/step - loss: 1.3300 - accuracy: 0.5416 - val_loss: 1.2959 - val_accuracy: 0.5735\n",
            "Epoch 5/5\n",
            "562/562 [==============================] - 27s 48ms/step - loss: 1.2666 - accuracy: 0.6014 - val_loss: 1.2316 - val_accuracy: 0.6439\n"
          ]
        }
      ]
    },
    {
      "cell_type": "code",
      "source": [
        "model_5.evaluate(val_model_5_prefetch)"
      ],
      "metadata": {
        "colab": {
          "base_uri": "https://localhost:8080/"
        },
        "id": "Jd0B9E5dazdJ",
        "outputId": "87bdd2b8-b141-48d1-bc26-df331ce2d7ae"
      },
      "execution_count": null,
      "outputs": [
        {
          "output_type": "stream",
          "name": "stdout",
          "text": [
            "945/945 [==============================] - 21s 22ms/step - loss: 1.2268 - accuracy: 0.6414\n"
          ]
        },
        {
          "output_type": "execute_result",
          "data": {
            "text/plain": [
              "[1.2268470525741577, 0.6414338946342468]"
            ]
          },
          "metadata": {},
          "execution_count": 107
        }
      ]
    },
    {
      "cell_type": "markdown",
      "source": [
        "**NOW WE SAVE AND LOAD OUR MODEL**"
      ],
      "metadata": {
        "id": "vMxL56hoqiPM"
      }
    },
    {
      "cell_type": "code",
      "source": [
        "model_5.save(\"skimlim_model\")"
      ],
      "metadata": {
        "colab": {
          "base_uri": "https://localhost:8080/"
        },
        "id": "AV9FPFZZ2TPe",
        "outputId": "06666632-af00-41e9-b10b-818f42ae45d5"
      },
      "execution_count": null,
      "outputs": [
        {
          "output_type": "stream",
          "name": "stderr",
          "text": [
            "WARNING:absl:Found untraced functions such as lstm_cell_4_layer_call_fn, lstm_cell_4_layer_call_and_return_conditional_losses, lstm_cell_5_layer_call_fn, lstm_cell_5_layer_call_and_return_conditional_losses while saving (showing 4 of 4). These functions will not be directly callable after loading.\n"
          ]
        }
      ]
    },
    {
      "cell_type": "code",
      "source": [
        "\n",
        "\n",
        "!tensorboard dev upload --logdir tbc/ --name \"skimlim_model\""
      ],
      "metadata": {
        "colab": {
          "base_uri": "https://localhost:8080/"
        },
        "id": "AxGT9vfq875N",
        "outputId": "66f982d7-fe45-4dfb-be23-cdb3fe4049bf"
      },
      "execution_count": null,
      "outputs": [
        {
          "output_type": "stream",
          "name": "stdout",
          "text": [
            "2023-07-23 05:45:47.316253: W tensorflow/compiler/tf2tensorrt/utils/py_utils.cc:38] TF-TRT Warning: Could not find TensorRT\n",
            "\n",
            "***** TensorBoard Uploader *****\n",
            "\n",
            "This will upload your TensorBoard logs to https://tensorboard.dev/ from\n",
            "the following directory:\n",
            "\n",
            "tbc/\n",
            "\n",
            "This TensorBoard will be visible to everyone. Do not upload sensitive\n",
            "data.\n",
            "\n",
            "Your use of this service is subject to Google's Terms of Service\n",
            "<https://policies.google.com/terms> and Privacy Policy\n",
            "<https://policies.google.com/privacy>, and TensorBoard.dev's Terms of Service\n",
            "<https://tensorboard.dev/policy/terms/>.\n",
            "\n",
            "This notice will not be shown again while you are logged into the uploader.\n",
            "To log out, run `tensorboard dev auth revoke`.\n",
            "\n",
            "Continue? (yes/NO) Traceback (most recent call last):\n",
            "  File \"/usr/local/lib/python3.10/dist-packages/absl/app.py\", line 308, in run\n",
            "    _run_main(main, args)\n",
            "  File \"/usr/local/lib/python3.10/dist-packages/absl/app.py\", line 254, in _run_main\n",
            "    sys.exit(main(argv))\n",
            "  File \"/usr/local/lib/python3.10/dist-packages/tensorboard/program.py\", line 276, in main\n",
            "    return runner(self.flags) or 0\n",
            "  File \"/usr/local/lib/python3.10/dist-packages/tensorboard/uploader/uploader_subcommand.py\", line 691, in run\n",
            "    return _run(flags, self._experiment_url_callback)\n",
            "  File \"/usr/local/lib/python3.10/dist-packages/tensorboard/uploader/uploader_subcommand.py\", line 93, in _run\n",
            "    _prompt_for_user_ack(intent)\n",
            "  File \"/usr/local/lib/python3.10/dist-packages/tensorboard/uploader/uploader_subcommand.py\", line 66, in _prompt_for_user_ack\n",
            "    response = input(\"Continue? (yes/NO) \")\n",
            "KeyboardInterrupt\n",
            "\n",
            "During handling of the above exception, another exception occurred:\n",
            "\n",
            "Traceback (most recent call last):\n",
            "  File \"/usr/local/bin/tensorboard\", line 8, in <module>\n",
            "    sys.exit(run_main())\n",
            "  File \"/usr/local/lib/python3.10/dist-packages/tensorboard/main.py\", line 46, in run_main\n",
            "    app.run(tensorboard.main, flags_parser=tensorboard.configure)\n",
            "  File \"/usr/local/lib/python3.10/dist-packages/absl/app.py\", line 312, in run\n",
            "    exc = sys.exc_info()[1]\n",
            "KeyboardInterrupt\n",
            "^C\n"
          ]
        }
      ]
    },
    {
      "cell_type": "code",
      "source": [
        "test_model_5_data = tf.data.Dataset.from_tensor_slices((test_sentences,test_chars,test_line_number_encoded,test_total_line_encoded))\n",
        "test_model_5_label = tf.data.Dataset.from_tensor_slices(test_label_encoded)\n",
        "test_model_5_dataset = tf.data.Dataset.zip((test_model_5_data,test_model_5_label ))\n",
        "\n",
        "test_model_5_prefetch = test_model_5_dataset.batch(32).prefetch(tf.data.AUTOTUNE)\n",
        "test_model_5_prefetch"
      ],
      "metadata": {
        "id": "23tEZcSjBitV",
        "colab": {
          "base_uri": "https://localhost:8080/"
        },
        "outputId": "ac5d05b3-c808-4fed-d366-8f58f6c2232e"
      },
      "execution_count": null,
      "outputs": [
        {
          "output_type": "execute_result",
          "data": {
            "text/plain": [
              "<_PrefetchDataset element_spec=((TensorSpec(shape=(None,), dtype=tf.string, name=None), TensorSpec(shape=(None,), dtype=tf.string, name=None), TensorSpec(shape=(None, 13), dtype=tf.float32, name=None), TensorSpec(shape=(None, 19), dtype=tf.float32, name=None)), TensorSpec(shape=(None, 5), dtype=tf.float64, name=None))>"
            ]
          },
          "metadata": {},
          "execution_count": 115
        }
      ]
    },
    {
      "cell_type": "code",
      "source": [
        "test_predictions = model_5.predict(test_model_5_prefetch)\n",
        "test_predictions"
      ],
      "metadata": {
        "colab": {
          "base_uri": "https://localhost:8080/"
        },
        "id": "C_Mg0IIiU0no",
        "outputId": "9b031e5c-a3ea-4b02-9890-9e42c2995f7b"
      },
      "execution_count": null,
      "outputs": [
        {
          "output_type": "stream",
          "name": "stdout",
          "text": [
            "942/942 [==============================] - 20s 21ms/step\n"
          ]
        },
        {
          "output_type": "execute_result",
          "data": {
            "text/plain": [
              "array([[0.29472008, 0.16588207, 0.2003303 , 0.22179106, 0.11727649],\n",
              "       [0.2695338 , 0.15108533, 0.28291026, 0.15264197, 0.14382868],\n",
              "       [0.12425939, 0.11599394, 0.4700158 , 0.07947516, 0.2102557 ],\n",
              "       ...,\n",
              "       [0.12591526, 0.20561625, 0.24187979, 0.09632324, 0.3302655 ],\n",
              "       [0.11027379, 0.19564012, 0.25912458, 0.0862283 , 0.34873325],\n",
              "       [0.12076693, 0.21327588, 0.35000396, 0.08200662, 0.23394659]],\n",
              "      dtype=float32)"
            ]
          },
          "metadata": {},
          "execution_count": 117
        }
      ]
    },
    {
      "cell_type": "code",
      "source": [
        "model_5_test_pred_classes = tf.argmax(test_predictions,axis=1)\n",
        "model_5_test_pred_classes[:10]"
      ],
      "metadata": {
        "colab": {
          "base_uri": "https://localhost:8080/"
        },
        "id": "tPYzEdLuZUtl",
        "outputId": "e2e164f5-9861-4eb3-a9a3-0fbc5731ddcc"
      },
      "execution_count": null,
      "outputs": [
        {
          "output_type": "execute_result",
          "data": {
            "text/plain": [
              "<tf.Tensor: shape=(10,), dtype=int64, numpy=array([0, 2, 2, 2, 4, 4, 4, 2, 4, 0])>"
            ]
          },
          "metadata": {},
          "execution_count": 121
        }
      ]
    },
    {
      "cell_type": "code",
      "source": [
        "pd.DataFrame(history_5.history).plot()"
      ],
      "metadata": {
        "colab": {
          "base_uri": "https://localhost:8080/",
          "height": 447
        },
        "id": "Hodbkm89ay9j",
        "outputId": "16045334-361c-46f5-c12b-87dc8ae37404"
      },
      "execution_count": null,
      "outputs": [
        {
          "output_type": "execute_result",
          "data": {
            "text/plain": [
              "<Axes: >"
            ]
          },
          "metadata": {},
          "execution_count": 120
        },
        {
          "output_type": "display_data",
          "data": {
            "text/plain": [
              "<Figure size 640x480 with 1 Axes>"
            ],
            "image/png": "[encoded data removed]"
          },
          "metadata": {}
        }
      ]
    },
    {
      "cell_type": "markdown",
      "source": [
        "**FINDING MOST WRONG**"
      ],
      "metadata": {
        "id": "mbPLPDYzbhbH"
      }
    },
    {
      "cell_type": "code",
      "source": [
        "model_5_predicts =label_names[model_5_test_pred_classes]\n",
        "model_5_predicts"
      ],
      "metadata": {
        "colab": {
          "base_uri": "https://localhost:8080/"
        },
        "id": "Cih8UlK5gH_V",
        "outputId": "5ee05299-643c-441b-f9c8-a83f06d99fab"
      },
      "execution_count": null,
      "outputs": [
        {
          "output_type": "execute_result",
          "data": {
            "text/plain": [
              "array(['BACKGROUND', 'METHODS', 'METHODS', ..., 'RESULTS', 'RESULTS',\n",
              "       'METHODS'], dtype=object)"
            ]
          },
          "metadata": {},
          "execution_count": 124
        }
      ]
    },
    {
      "cell_type": "code",
      "source": [
        "test_pred_classes = [label_encoder.classes_[p] for p in model_5_test_pred_classes]\n",
        "test_pred_classes[:10]"
      ],
      "metadata": {
        "colab": {
          "base_uri": "https://localhost:8080/"
        },
        "id": "VuQ1O7xUgg0j",
        "outputId": "9be9417e-535b-45f7-c7dc-d70bf8a2f3c1"
      },
      "execution_count": null,
      "outputs": [
        {
          "output_type": "execute_result",
          "data": {
            "text/plain": [
              "['BACKGROUND',\n",
              " 'METHODS',\n",
              " 'METHODS',\n",
              " 'METHODS',\n",
              " 'RESULTS',\n",
              " 'RESULTS',\n",
              " 'RESULTS',\n",
              " 'METHODS',\n",
              " 'RESULTS',\n",
              " 'BACKGROUND']"
            ]
          },
          "metadata": {},
          "execution_count": 126
        }
      ]
    },
    {
      "cell_type": "code",
      "source": [
        "test_df.head(10)"
      ],
      "metadata": {
        "colab": {
          "base_uri": "https://localhost:8080/",
          "height": 363
        },
        "id": "HeLFoXGPibp2",
        "outputId": "0ef54442-f423-42fc-e9e5-e373207cba8a"
      },
      "execution_count": null,
      "outputs": [
        {
          "output_type": "execute_result",
          "data": {
            "text/plain": [
              "        target                                               text  number  \\\n",
              "0   BACKGROUND  this study analyzed liver function abnormaliti...       0   \n",
              "1      RESULTS  a post hoc analysis was conducted with the use...       1   \n",
              "2      RESULTS  liver function tests ( lfts ) were measured at...       2   \n",
              "3      RESULTS  survival analyses were used to assess the asso...       3   \n",
              "4      RESULTS  the percentage of patients with abnormal lfts ...       4   \n",
              "5      RESULTS  when mean hemodynamic profiles were compared i...       5   \n",
              "6      RESULTS  multivariable analyses revealed that patients ...       6   \n",
              "7  CONCLUSIONS  abnormal lfts are common in the adhf populatio...       7   \n",
              "8  CONCLUSIONS  elevated meld-xi scores are associated with po...       8   \n",
              "9   BACKGROUND  minimally invasive endovascular aneurysm repai...       0   \n",
              "\n",
              "   total_num_lines  \n",
              "0                9  \n",
              "1                9  \n",
              "2                9  \n",
              "3                9  \n",
              "4                9  \n",
              "5                9  \n",
              "6                9  \n",
              "7                9  \n",
              "8                9  \n",
              "9               13  "
            ],
            "text/html": [
              "\n",
              "\n",
              "  <div id=\"df-2f0956bb-ac4a-41fa-bd44-43cd55ef71a4\">\n",
              "    <div class=\"colab-df-container\">\n",
              "      <div>\n",
              "<style scoped>\n",
              "    .dataframe tbody tr th:only-of-type {\n",
              "        vertical-align: middle;\n",
              "    }\n",
              "\n",
              "    .dataframe tbody tr th {\n",
              "        vertical-align: top;\n",
              "    }\n",
              "\n",
              "    .dataframe thead th {\n",
              "        text-align: right;\n",
              "    }\n",
              "</style>\n",
              "<table border=\"1\" class=\"dataframe\">\n",
              "  <thead>\n",
              "    <tr style=\"text-align: right;\">\n",
              "      <th></th>\n",
              "      <th>target</th>\n",
              "      <th>text</th>\n",
              "      <th>number</th>\n",
              "      <th>total_num_lines</th>\n",
              "    </tr>\n",
              "  </thead>\n",
              "  <tbody>\n",
              "    <tr>\n",
              "      <th>0</th>\n",
              "      <td>BACKGROUND</td>\n",
              "      <td>this study analyzed liver function abnormaliti...</td>\n",
              "      <td>0</td>\n",
              "      <td>9</td>\n",
              "    </tr>\n",
              "    <tr>\n",
              "      <th>1</th>\n",
              "      <td>RESULTS</td>\n",
              "      <td>a post hoc analysis was conducted with the use...</td>\n",
              "      <td>1</td>\n",
              "      <td>9</td>\n",
              "    </tr>\n",
              "    <tr>\n",
              "      <th>2</th>\n",
              "      <td>RESULTS</td>\n",
              "      <td>liver function tests ( lfts ) were measured at...</td>\n",
              "      <td>2</td>\n",
              "      <td>9</td>\n",
              "    </tr>\n",
              "    <tr>\n",
              "      <th>3</th>\n",
              "      <td>RESULTS</td>\n",
              "      <td>survival analyses were used to assess the asso...</td>\n",
              "      <td>3</td>\n",
              "      <td>9</td>\n",
              "    </tr>\n",
              "    <tr>\n",
              "      <th>4</th>\n",
              "      <td>RESULTS</td>\n",
              "      <td>the percentage of patients with abnormal lfts ...</td>\n",
              "      <td>4</td>\n",
              "      <td>9</td>\n",
              "    </tr>\n",
              "    <tr>\n",
              "      <th>5</th>\n",
              "      <td>RESULTS</td>\n",
              "      <td>when mean hemodynamic profiles were compared i...</td>\n",
              "      <td>5</td>\n",
              "      <td>9</td>\n",
              "    </tr>\n",
              "    <tr>\n",
              "      <th>6</th>\n",
              "      <td>RESULTS</td>\n",
              "      <td>multivariable analyses revealed that patients ...</td>\n",
              "      <td>6</td>\n",
              "      <td>9</td>\n",
              "    </tr>\n",
              "    <tr>\n",
              "      <th>7</th>\n",
              "      <td>CONCLUSIONS</td>\n",
              "      <td>abnormal lfts are common in the adhf populatio...</td>\n",
              "      <td>7</td>\n",
              "      <td>9</td>\n",
              "    </tr>\n",
              "    <tr>\n",
              "      <th>8</th>\n",
              "      <td>CONCLUSIONS</td>\n",
              "      <td>elevated meld-xi scores are associated with po...</td>\n",
              "      <td>8</td>\n",
              "      <td>9</td>\n",
              "    </tr>\n",
              "    <tr>\n",
              "      <th>9</th>\n",
              "      <td>BACKGROUND</td>\n",
              "      <td>minimally invasive endovascular aneurysm repai...</td>\n",
              "      <td>0</td>\n",
              "      <td>13</td>\n",
              "    </tr>\n",
              "  </tbody>\n",
              "</table>\n",
              "</div>\n",
              "      <button class=\"colab-df-convert\" onclick=\"convertToInteractive('df-2f0956bb-ac4a-41fa-bd44-43cd55ef71a4')\"\n",
              "              title=\"Convert this dataframe to an interactive table.\"\n",
              "              style=\"display:none;\">\n",
              "\n",
              "  <svg xmlns=\"http://www.w3.org/2000/svg\" height=\"24px\"viewBox=\"0 0 24 24\"\n",
              "       width=\"24px\">\n",
              "    <path d=\"M0 0h24v24H0V0z\" fill=\"none\"/>\n",
              "    <path d=\"M18.56 5.44l.94 2.06.94-2.06 2.06-.94-2.06-.94-.94-2.06-.94 2.06-2.06.94zm-11 1L8.5 8.5l.94-2.06 2.06-.94-2.06-.94L8.5 2.5l-.94 2.06-2.06.94zm10 10l.94 2.06.94-2.06 2.06-.94-2.06-.94-.94-2.06-.94 2.06-2.06.94z\"/><path d=\"M17.41 7.96l-1.37-1.37c-.4-.4-.92-.59-1.43-.59-.52 0-1.04.2-1.43.59L10.3 9.45l-7.72 7.72c-.78.78-.78 2.05 0 2.83L4 21.41c.39.39.9.59 1.41.59.51 0 1.02-.2 1.41-.59l7.78-7.78 2.81-2.81c.8-.78.8-2.07 0-2.86zM5.41 20L4 18.59l7.72-7.72 1.47 1.35L5.41 20z\"/>\n",
              "  </svg>\n",
              "      </button>\n",
              "\n",
              "\n",
              "\n",
              "    <div id=\"df-36a3591b-3000-4d1b-98f6-b9cb79634459\">\n",
              "      <button class=\"colab-df-quickchart\" onclick=\"quickchart('df-36a3591b-3000-4d1b-98f6-b9cb79634459')\"\n",
              "              title=\"Suggest charts.\"\n",
              "              style=\"display:none;\">\n",
              "\n",
              "<svg xmlns=\"http://www.w3.org/2000/svg\" height=\"24px\"viewBox=\"0 0 24 24\"\n",
              "     width=\"24px\">\n",
              "    <g>\n",
              "        <path d=\"M19 3H5c-1.1 0-2 .9-2 2v14c0 1.1.9 2 2 2h14c1.1 0 2-.9 2-2V5c0-1.1-.9-2-2-2zM9 17H7v-7h2v7zm4 0h-2V7h2v10zm4 0h-2v-4h2v4z\"/>\n",
              "    </g>\n",
              "</svg>\n",
              "      </button>\n",
              "    </div>\n",
              "\n",
              "<style>\n",
              "  .colab-df-quickchart {\n",
              "    background-color: #E8F0FE;\n",
              "    border: none;\n",
              "    border-radius: 50%;\n",
              "    cursor: pointer;\n",
              "    display: none;\n",
              "    fill: #1967D2;\n",
              "    height: 32px;\n",
              "    padding: 0 0 0 0;\n",
              "    width: 32px;\n",
              "  }\n",
              "\n",
              "  .colab-df-quickchart:hover {\n",
              "    background-color: #E2EBFA;\n",
              "    box-shadow: 0px 1px 2px rgba(60, 64, 67, 0.3), 0px 1px 3px 1px rgba(60, 64, 67, 0.15);\n",
              "    fill: #174EA6;\n",
              "  }\n",
              "\n",
              "  [theme=dark] .colab-df-quickchart {\n",
              "    background-color: #3B4455;\n",
              "    fill: #D2E3FC;\n",
              "  }\n",
              "\n",
              "  [theme=dark] .colab-df-quickchart:hover {\n",
              "    background-color: #434B5C;\n",
              "    box-shadow: 0px 1px 3px 1px rgba(0, 0, 0, 0.15);\n",
              "    filter: drop-shadow(0px 1px 2px rgba(0, 0, 0, 0.3));\n",
              "    fill: #FFFFFF;\n",
              "  }\n",
              "</style>\n",
              "\n",
              "    <script>\n",
              "      async function quickchart(key) {\n",
              "        const containerElement = document.querySelector('#' + key);\n",
              "        const charts = await google.colab.kernel.invokeFunction(\n",
              "            'suggestCharts', [key], {});\n",
              "      }\n",
              "    </script>\n",
              "\n",
              "      <script>\n",
              "\n",
              "function displayQuickchartButton(domScope) {\n",
              "  let quickchartButtonEl =\n",
              "    domScope.querySelector('#df-36a3591b-3000-4d1b-98f6-b9cb79634459 button.colab-df-quickchart');\n",
              "  quickchartButtonEl.style.display =\n",
              "    google.colab.kernel.accessAllowed ? 'block' : 'none';\n",
              "}\n",
              "\n",
              "        displayQuickchartButton(document);\n",
              "      </script>\n",
              "      <style>\n",
              "    .colab-df-container {\n",
              "      display:flex;\n",
              "      flex-wrap:wrap;\n",
              "      gap: 12px;\n",
              "    }\n",
              "\n",
              "    .colab-df-convert {\n",
              "      background-color: #E8F0FE;\n",
              "      border: none;\n",
              "      border-radius: 50%;\n",
              "      cursor: pointer;\n",
              "      display: none;\n",
              "      fill: #1967D2;\n",
              "      height: 32px;\n",
              "      padding: 0 0 0 0;\n",
              "      width: 32px;\n",
              "    }\n",
              "\n",
              "    .colab-df-convert:hover {\n",
              "      background-color: #E2EBFA;\n",
              "      box-shadow: 0px 1px 2px rgba(60, 64, 67, 0.3), 0px 1px 3px 1px rgba(60, 64, 67, 0.15);\n",
              "      fill: #174EA6;\n",
              "    }\n",
              "\n",
              "    [theme=dark] .colab-df-convert {\n",
              "      background-color: #3B4455;\n",
              "      fill: #D2E3FC;\n",
              "    }\n",
              "\n",
              "    [theme=dark] .colab-df-convert:hover {\n",
              "      background-color: #434B5C;\n",
              "      box-shadow: 0px 1px 3px 1px rgba(0, 0, 0, 0.15);\n",
              "      filter: drop-shadow(0px 1px 2px rgba(0, 0, 0, 0.3));\n",
              "      fill: #FFFFFF;\n",
              "    }\n",
              "  </style>\n",
              "\n",
              "      <script>\n",
              "        const buttonEl =\n",
              "          document.querySelector('#df-2f0956bb-ac4a-41fa-bd44-43cd55ef71a4 button.colab-df-convert');\n",
              "        buttonEl.style.display =\n",
              "          google.colab.kernel.accessAllowed ? 'block' : 'none';\n",
              "\n",
              "        async function convertToInteractive(key) {\n",
              "          const element = document.querySelector('#df-2f0956bb-ac4a-41fa-bd44-43cd55ef71a4');\n",
              "          const dataTable =\n",
              "            await google.colab.kernel.invokeFunction('convertToInteractive',\n",
              "                                                     [key], {});\n",
              "          if (!dataTable) return;\n",
              "\n",
              "          const docLinkHtml = 'Like what you see? Visit the ' +\n",
              "            '<a target=\"_blank\" href=https://colab.research.google.com/notebooks/data_table.ipynb>data table notebook</a>'\n",
              "            + ' to learn more about interactive tables.';\n",
              "          element.innerHTML = '';\n",
              "          dataTable['output_type'] = 'display_data';\n",
              "          await google.colab.output.renderOutput(dataTable, element);\n",
              "          const docLink = document.createElement('div');\n",
              "          docLink.innerHTML = docLinkHtml;\n",
              "          element.appendChild(docLink);\n",
              "        }\n",
              "      </script>\n",
              "    </div>\n",
              "  </div>\n"
            ]
          },
          "metadata": {},
          "execution_count": 127
        }
      ]
    },
    {
      "cell_type": "code",
      "source": [
        "tf.reduce_max(test_predictions,axis=1)"
      ],
      "metadata": {
        "colab": {
          "base_uri": "https://localhost:8080/"
        },
        "id": "RDGxE2FhlIu1",
        "outputId": "626a01e4-8ae6-40de-e233-4d27e0a424c5"
      },
      "execution_count": null,
      "outputs": [
        {
          "output_type": "execute_result",
          "data": {
            "text/plain": [
              "<tf.Tensor: shape=(30135,), dtype=float32, numpy=\n",
              "array([0.29472008, 0.28291026, 0.4700158 , ..., 0.3302655 , 0.34873325,\n",
              "       0.35000396], dtype=float32)>"
            ]
          },
          "metadata": {},
          "execution_count": 133
        }
      ]
    },
    {
      "cell_type": "code",
      "source": [
        "test_df[\"prediction_classes\"] = test_pred_classes\n",
        "test_df[\"predictions\"] = tf.reduce_max(test_predictions,axis=1)\n",
        "test_df[\"is_correct\"] = test_df[\"predictions\"] ==test_df[\"target\"]"
      ],
      "metadata": {
        "id": "1r7ze3R0jNX2"
      },
      "execution_count": null,
      "outputs": []
    },
    {
      "cell_type": "code",
      "source": [
        "test_df.tail(50).plot.bar()"
      ],
      "metadata": {
        "colab": {
          "base_uri": "https://localhost:8080/",
          "height": 477
        },
        "id": "_yksaEqdlcdL",
        "outputId": "d9fa43af-1a21-40b7-e99f-c34f51e373d2"
      },
      "execution_count": null,
      "outputs": [
        {
          "output_type": "execute_result",
          "data": {
            "text/plain": [
              "<Axes: >"
            ]
          },
          "metadata": {},
          "execution_count": 146
        },
        {
          "output_type": "display_data",
          "data": {
            "text/plain": [
              "<Figure size 640x480 with 1 Axes>"
            ],
            "image/png": "[encoded data removed]"
          },
          "metadata": {}
        }
      ]
    },
    {
      "cell_type": "code",
      "source": [],
      "metadata": {
        "id": "cWHR8e_vmVWb"
      },
      "execution_count": null,
      "outputs": []
    }
  ]
}